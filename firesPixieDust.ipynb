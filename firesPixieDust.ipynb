{
 "cells": [
  {
   "cell_type": "code",
   "execution_count": 1,
   "metadata": {},
   "outputs": [
    {
     "name": "stdout",
     "output_type": "stream",
     "text": [
      "Requirement already up-to-date: pixiedust in /home/engin/anaconda3/envs/py35/lib/python3.5/site-packages (1.1.11)\n",
      "Requirement not upgraded as not directly required: mpld3 in /home/engin/anaconda3/envs/py35/lib/python3.5/site-packages (from pixiedust) (0.3)\n",
      "Requirement not upgraded as not directly required: astunparse in /home/engin/anaconda3/envs/py35/lib/python3.5/site-packages (from pixiedust) (1.5.0)\n",
      "Requirement not upgraded as not directly required: geojson in /home/engin/anaconda3/envs/py35/lib/python3.5/site-packages (from pixiedust) (2.4.0)\n",
      "Requirement not upgraded as not directly required: markdown in /home/engin/anaconda3/envs/py35/lib/python3.5/site-packages (from pixiedust) (2.6.11)\n",
      "Requirement not upgraded as not directly required: colour in /home/engin/anaconda3/envs/py35/lib/python3.5/site-packages (from pixiedust) (0.1.5)\n",
      "Requirement not upgraded as not directly required: lxml in /home/engin/anaconda3/envs/py35/lib/python3.5/site-packages (from pixiedust) (4.2.5)\n",
      "Requirement not upgraded as not directly required: six<2.0,>=1.6.1 in /home/engin/anaconda3/envs/py35/lib/python3.5/site-packages (from astunparse->pixiedust) (1.11.0)\n",
      "Requirement not upgraded as not directly required: wheel<1.0,>=0.23.0 in /home/engin/anaconda3/envs/py35/lib/python3.5/site-packages (from astunparse->pixiedust) (0.31.1)\n",
      "\u001b[33mYou are using pip version 10.0.1, however version 18.0 is available.\n",
      "You should consider upgrading via the 'pip install --upgrade pip' command.\u001b[0m\n"
     ]
    }
   ],
   "source": [
    "!pip install --upgrade pixiedust"
   ]
  },
  {
   "cell_type": "code",
   "execution_count": 2,
   "metadata": {},
   "outputs": [
    {
     "name": "stdout",
     "output_type": "stream",
     "text": [
      "Requirement already up-to-date: bokeh==0.12.6 in /home/engin/anaconda3/envs/py35/lib/python3.5/site-packages (0.12.6)\n",
      "Requirement not upgraded as not directly required: PyYAML>=3.10 in /home/engin/anaconda3/envs/py35/lib/python3.5/site-packages (from bokeh==0.12.6) (3.13)\n",
      "Requirement not upgraded as not directly required: numpy>=1.7.1 in /home/engin/anaconda3/envs/py35/lib/python3.5/site-packages (from bokeh==0.12.6) (1.15.1)\n",
      "Requirement not upgraded as not directly required: Jinja2>=2.7 in /home/engin/anaconda3/envs/py35/lib/python3.5/site-packages (from bokeh==0.12.6) (2.10)\n",
      "Requirement not upgraded as not directly required: requests>=1.2.3 in /home/engin/anaconda3/envs/py35/lib/python3.5/site-packages (from bokeh==0.12.6) (2.19.1)\n",
      "Requirement not upgraded as not directly required: six>=1.5.2 in /home/engin/anaconda3/envs/py35/lib/python3.5/site-packages (from bokeh==0.12.6) (1.11.0)\n",
      "Requirement not upgraded as not directly required: bkcharts>=0.2 in /home/engin/anaconda3/envs/py35/lib/python3.5/site-packages (from bokeh==0.12.6) (0.2)\n",
      "Requirement not upgraded as not directly required: python-dateutil>=2.1 in /home/engin/anaconda3/envs/py35/lib/python3.5/site-packages (from bokeh==0.12.6) (2.7.3)\n",
      "Requirement not upgraded as not directly required: tornado>=4.3 in /home/engin/anaconda3/envs/py35/lib/python3.5/site-packages (from bokeh==0.12.6) (5.1)\n",
      "Requirement not upgraded as not directly required: MarkupSafe>=0.23 in /home/engin/anaconda3/envs/py35/lib/python3.5/site-packages (from Jinja2>=2.7->bokeh==0.12.6) (1.0)\n",
      "Requirement not upgraded as not directly required: idna<2.8,>=2.5 in /home/engin/anaconda3/envs/py35/lib/python3.5/site-packages (from requests>=1.2.3->bokeh==0.12.6) (2.7)\n",
      "Requirement not upgraded as not directly required: certifi>=2017.4.17 in /home/engin/anaconda3/envs/py35/lib/python3.5/site-packages (from requests>=1.2.3->bokeh==0.12.6) (2018.8.24)\n",
      "Requirement not upgraded as not directly required: chardet<3.1.0,>=3.0.2 in /home/engin/anaconda3/envs/py35/lib/python3.5/site-packages (from requests>=1.2.3->bokeh==0.12.6) (3.0.4)\n",
      "Requirement not upgraded as not directly required: urllib3<1.24,>=1.21.1 in /home/engin/anaconda3/envs/py35/lib/python3.5/site-packages (from requests>=1.2.3->bokeh==0.12.6) (1.23)\n",
      "\u001b[33mYou are using pip version 10.0.1, however version 18.0 is available.\n",
      "You should consider upgrading via the 'pip install --upgrade pip' command.\u001b[0m\n"
     ]
    }
   ],
   "source": [
    "!pip install --upgrade bokeh==0.12.6"
   ]
  },
  {
   "cell_type": "code",
   "execution_count": 3,
   "metadata": {},
   "outputs": [
    {
     "name": "stdout",
     "output_type": "stream",
     "text": [
      "Pixiedust database opened successfully\n"
     ]
    },
    {
     "data": {
      "text/html": [
       "\n",
       "        <div style=\"margin:10px\">\n",
       "            <a href=\"https://github.com/ibm-watson-data-lab/pixiedust\" target=\"_new\">\n",
       "                <img src=\"https://github.com/ibm-watson-data-lab/pixiedust/raw/master/docs/_static/pd_icon32.png\" style=\"float:left;margin-right:10px\"/>\n",
       "            </a>\n",
       "            <span>Pixiedust version 1.1.11</span>\n",
       "        </div>\n",
       "        "
      ],
      "text/plain": [
       "<IPython.core.display.HTML object>"
      ]
     },
     "metadata": {},
     "output_type": "display_data"
    }
   ],
   "source": [
    "# Before, you can use the PixieDust library it must be imported into the notebook.\n",
    "# This notebook requires version 1.0.6\n",
    "import pixiedust"
   ]
  },
  {
   "cell_type": "code",
   "execution_count": 4,
   "metadata": {},
   "outputs": [
    {
     "name": "stdout",
     "output_type": "stream",
     "text": [
      "Downloading 'https://firms.modaps.eosdis.nasa.gov/data/active_fire/c6/csv/MODIS_C6_USA_contiguous_and_Hawaii_24h.csv' from https://firms.modaps.eosdis.nasa.gov/data/active_fire/c6/csv/MODIS_C6_USA_contiguous_and_Hawaii_24h.csv\n",
      "Downloaded 48251 bytes\n",
      "Creating pandas DataFrame for 'https://firms.modaps.eosdis.nasa.gov/data/active_fire/c6/csv/MODIS_C6_USA_contiguous_and_Hawaii_24h.csv'. Please wait...\n",
      "Loading file using 'pandas'\n",
      "Successfully created pandas DataFrame for 'https://firms.modaps.eosdis.nasa.gov/data/active_fire/c6/csv/MODIS_C6_USA_contiguous_and_Hawaii_24h.csv'\n"
     ]
    }
   ],
   "source": [
    "# With PixieDust, you can easily load CSV data from a URL into a PySpark DataFrame in the notebook.\n",
    "\n",
    "incidents = pixiedust.sampleData(\"https://firms.modaps.eosdis.nasa.gov/data/active_fire/c6/csv/MODIS_C6_USA_contiguous_and_Hawaii_24h.csv\")"
   ]
  },
  {
   "cell_type": "code",
   "execution_count": null,
   "metadata": {
    "pixiedust": {
     "displayParams": {
      "handlerId": "mapView",
      "keyFields": "latitude,longitude",
      "mapboxtoken": "pk.eyJ1IjoibWFwYm94IiwiYSI6ImNpejY4M29iazA2Z2gycXA4N2pmbDZmangifQ.-g_vE53SD2WrJ6tFX7QHmA",
      "valueFields": "bright_t31"
     }
    }
   },
   "outputs": [
    {
     "data": {
      "text/html": [
       "<style type=\"text/css\">.pd_warning{display:none;}</style><div class=\"pd_warning\"><em>Hey, there's something awesome here! To see it, open this notebook outside GitHub, in a viewer like Jupyter</em></div>"
      ],
      "text/plain": [
       "<IPython.core.display.HTML object>"
      ]
     },
     "metadata": {
      "pixieapp_metadata": null
     },
     "output_type": "display_data"
    }
   ],
   "source": [
    "display(incidents)"
   ]
  },
  {
   "cell_type": "code",
   "execution_count": 6,
   "metadata": {},
   "outputs": [
    {
     "name": "stdout",
     "output_type": "stream",
     "text": [
      "Downloading 'https://firms.modaps.eosdis.nasa.gov/data/active_fire/c6/csv/MODIS_C6_Europe_24h.csv' from https://firms.modaps.eosdis.nasa.gov/data/active_fire/c6/csv/MODIS_C6_Europe_24h.csv\n",
      "Downloaded 24974 bytes\n",
      "Creating pandas DataFrame for 'https://firms.modaps.eosdis.nasa.gov/data/active_fire/c6/csv/MODIS_C6_Europe_24h.csv'. Please wait...\n",
      "Loading file using 'pandas'\n",
      "Successfully created pandas DataFrame for 'https://firms.modaps.eosdis.nasa.gov/data/active_fire/c6/csv/MODIS_C6_Europe_24h.csv'\n"
     ]
    }
   ],
   "source": [
    "incidents2 = pixiedust.sampleData(\"https://firms.modaps.eosdis.nasa.gov/data/active_fire/c6/csv/MODIS_C6_Europe_24h.csv\")"
   ]
  },
  {
   "cell_type": "code",
   "execution_count": null,
   "metadata": {
    "pixiedust": {
     "displayParams": {
      "handlerId": "mapView",
      "keyFields": "latitude,longitude",
      "mapboxtoken": "pk.eyJ1IjoibWFwYm94IiwiYSI6ImNpejY4M29iazA2Z2gycXA4N2pmbDZmangifQ.-g_vE53SD2WrJ6tFX7QHmA",
      "valueFields": "bright_t31"
     }
    }
   },
   "outputs": [
    {
     "data": {
      "text/html": [
       "<style type=\"text/css\">.pd_warning{display:none;}</style><div class=\"pd_warning\"><em>Hey, there's something awesome here! To see it, open this notebook outside GitHub, in a viewer like Jupyter</em></div>\n",
       "        <div class=\"pd_save is-viewer-good\" style=\"padding-right:10px;text-align: center;line-height:initial !important;font-size: xx-large;font-weight: 500;color: coral;\">\n",
       "            \n",
       "        </div>\n",
       "    <div id=\"chartFiguree7a89490\" class=\"pd_save is-viewer-good\" style=\"overflow-x:auto\">\n",
       "            <script>\n",
       "  window.iframeLoaded = window.iframeLoaded || function(iframe) {\n",
       "    try {\n",
       "      iframe.contentWindow.pdMessageListeners = [];\n",
       "      iframe.contentWindow[\"addPDMessageListener\"] = function(listener){\n",
       "        iframe.contentWindow.pdMessageListeners.push(listener);\n",
       "      }\n",
       "      iframe.contentWindow.addEventListener(\"message\", function(event){\n",
       "        iframe.contentWindow.pdMessageListeners.forEach(function(listener){\n",
       "          listener(event);\n",
       "        });\n",
       "      }, false);\n",
       "      iframe.contentWindow.ready = true;\n",
       "      iframe.contentWindow[\"triggerPDEvent\"] = function(eventInfo) {\n",
       "        $(document).trigger('pd_event', eventInfo);\n",
       "      }\n",
       "    } catch (e) {\n",
       "      console.log(e)\n",
       "    }\n",
       "  }\n",
       "\n",
       "  \n",
       "</script>\n",
       "<iframe id=\"mapframee7a89490\" style=\"width:800.0px;height:500px\" srcdoc=\"<!DOCTYPE html>\n",
       "<html lang=&quot;en&quot;>\n",
       "<head>\n",
       "    <meta charset=&quot;UTF-8&quot;>\n",
       "    <meta name=&quot;viewport&quot; content=&quot;width=device-width, initial-scale=1&quot;>\n",
       "    <title>Pixiedust Mapbox map</title>\n",
       "    <script src=&quot;https://api.tiles.mapbox.com/mapbox-gl-js/v0.32.1/mapbox-gl.js&quot;></script>\n",
       "    <link href=&quot;https://api.tiles.mapbox.com/mapbox-gl-js/v0.32.1/mapbox-gl.css&quot; rel=&quot;stylesheet&quot; />\n",
       "    <style>\n",
       "    .mapboxgl-popup-content h3 { \n",
       "        margin: 2px 0 2px 0;\n",
       "        font-style: italic;\n",
       "    }\n",
       "    .mapboxgl-popup {\n",
       "        max-width: 200px;\n",
       "    }\n",
       "    #map canvas {\n",
       "        cursor: crosshair;\n",
       "    }\n",
       "    .legend {\n",
       "        background-color: rgba(255,255,255, 0.75);\n",
       "        border-radius: 3px;\n",
       "        position: absolute;\n",
       "        left: 14px;\n",
       "        top: 14px;\n",
       "        box-shadow: 0 1px 2px rgba(0,0,0,0.10);\n",
       "        font-size: 12px;\n",
       "        line-height: 18px;\n",
       "        padding: 10px;\n",
       "        z-index: 1;\n",
       "    }\n",
       "    .legend h4 {\n",
       "        margin: 0 0 10px;\n",
       "    }\n",
       "    .legend div span {\n",
       "        border-radius: 50%;\n",
       "        display: inline-block;\n",
       "        height: 10px;\n",
       "        margin-right: 5px;\n",
       "        width: 10px;\n",
       "    }\n",
       "    body { \n",
       "        background-color:#333; \n",
       "        margin:0px !important; \n",
       "        overflow: hidden;\n",
       "        font-family: &quot;Helvetica Neue&quot;, Arial, Helvetica, sans-serif;\n",
       "    }\n",
       "    </style>\n",
       "</head>\n",
       "<body>\n",
       "<div id=&quot;map-e7a89490-7b4b711b&quot; style=&quot;width:calc(800.0px - 4px);height:calc(500px - 4px)&quot; />\n",
       "\n",
       "\n",
       "<script>\n",
       "    !function(e){if(&quot;object&quot;==typeof exports&amp;&amp;&quot;undefined&quot;!=typeof module)module.exports=e();else if(&quot;function&quot;==typeof define&amp;&amp;define.amd)define([],e);else{var n;&quot;undefined&quot;!=typeof window?n=window:&quot;undefined&quot;!=typeof global?n=global:&quot;undefined&quot;!=typeof self&amp;&amp;(n=self),n.geojsonExtent=e()}}(function(){return function e(t,n,r){function s(o,u){if(!n[o]){if(!t[o]){var a=&quot;function&quot;==typeof require&amp;&amp;require;if(!u&amp;&amp;a)return a(o,!0);if(i)return i(o,!0);var f=new Error(&quot;Cannot find module &quot;+o+&quot;&quot;);throw f.code=&quot;MODULE_NOT_FOUND&quot;,f}var l=n[o]={exports:{}};t[o][0].call(l.exports,function(e){var n=t[o][1][e];return s(n?n:e)},l,l.exports,e,t,n,r)}return n[o].exports}for(var i=&quot;function&quot;==typeof require&amp;&amp;require,o=0;o<r.length;o++)s(r[o]);return s}({1:[function(require,module){function getExtent(_){for(var ext=extent(),coords=geojsonCoords(_),i=0;i<coords.length;i++)ext.include(coords[i]);return ext}var geojsonCoords=require(&quot;geojson-coords&quot;),traverse=require(&quot;traverse&quot;),extent=require(&quot;extent&quot;),geojsonTypes=[&quot;Point&quot;,&quot;MultiPoint&quot;,&quot;LineString&quot;,&quot;MultiLineString&quot;,&quot;Polygon&quot;,&quot;MultiPolygon&quot;,&quot;Feature&quot;,&quot;FeatureCollection&quot;,&quot;GeometryCollection&quot;];module.exports=function(_){return getExtent(_).bbox()},module.exports.polygon=function(_){return getExtent(_).polygon()},module.exports.bboxify=function(_){return traverse(_).map(function(value){value&amp;&amp;-1!==typeof geojsonTypes.indexOf(value.type)&amp;&amp;(console.log(value.type,value),value.bbox=getExtent(value).bbox(),this.update(value))})}},{extent:2,&quot;geojson-coords&quot;:4,traverse:7}],2:[function(require,module){function Extent(){return this instanceof Extent?(this._bbox=[1/0,1/0,-(1/0),-(1/0)],void(this._valid=!1)):new Extent}module.exports=Extent,Extent.prototype.include=function(ll){return this._valid=!0,this._bbox[0]=Math.min(this._bbox[0],ll[0]),this._bbox[1]=Math.min(this._bbox[1],ll[1]),this._bbox[2]=Math.max(this._bbox[2],ll[0]),this._bbox[3]=Math.max(this._bbox[3],ll[1]),this},Extent.prototype.union=function(other){return this._valid=!0,this._bbox[0]=Math.min(this._bbox[0],other[0]),this._bbox[1]=Math.min(this._bbox[1],other[1]),this._bbox[2]=Math.max(this._bbox[2],other[2]),this._bbox[3]=Math.max(this._bbox[3],other[3]),this},Extent.prototype.bbox=function(){return this._valid?this._bbox:null},Extent.prototype.contains=function(ll){return this._valid?this._bbox[0]<=ll[0]&amp;&amp;this._bbox[1]<=ll[1]&amp;&amp;this._bbox[2]>=ll[0]&amp;&amp;this._bbox[3]>=ll[1]:null},Extent.prototype.polygon=function(){return this._valid?{type:&quot;Polygon&quot;,coordinates:[[[this._bbox[0],this._bbox[1]],[this._bbox[2],this._bbox[1]],[this._bbox[2],this._bbox[3]],[this._bbox[0],this._bbox[3]],[this._bbox[0],this._bbox[1]]]]}:null}},{}],3:[function(require,module){module.exports=function(list){function _flatten(list){return Array.isArray(list)&amp;&amp;list.length&amp;&amp;&quot;number&quot;==typeof list[0]?[list]:list.reduce(function(acc,item){return Array.isArray(item)&amp;&amp;Array.isArray(item[0])?acc.concat(_flatten(item)):(acc.push(item),acc)},[])}return _flatten(list)}},{}],4:[function(require,module){var geojsonNormalize=require(&quot;geojson-normalize&quot;),geojsonFlatten=require(&quot;geojson-flatten&quot;),flatten=require(&quot;./flatten&quot;);module.exports=function(_){if(!_)return[];var normalized=geojsonFlatten(geojsonNormalize(_)),coordinates=[];return normalized.features.forEach(function(feature){feature.geometry&amp;&amp;(coordinates=coordinates.concat(flatten(feature.geometry.coordinates)))}),coordinates}},{&quot;./flatten&quot;:3,&quot;geojson-flatten&quot;:5,&quot;geojson-normalize&quot;:6}],5:[function(require,module){function flatten(gj){switch(gj&amp;&amp;gj.type||null){case&quot;FeatureCollection&quot;:return gj.features=gj.features.reduce(function(mem,feature){return mem.concat(flatten(feature))},[]),gj;case&quot;Feature&quot;:return flatten(gj.geometry).map(function(geom){return{type:&quot;Feature&quot;,properties:JSON.parse(JSON.stringify(gj.properties)),geometry:geom}});case&quot;MultiPoint&quot;:return gj.coordinates.map(function(_){return{type:&quot;Point&quot;,coordinates:_}});case&quot;MultiPolygon&quot;:return gj.coordinates.map(function(_){return{type:&quot;Polygon&quot;,coordinates:_}});case&quot;MultiLineString&quot;:return gj.coordinates.map(function(_){return{type:&quot;LineString&quot;,coordinates:_}});case&quot;GeometryCollection&quot;:return gj.geometries;case&quot;Point&quot;:case&quot;Polygon&quot;:case&quot;LineString&quot;:return[gj];default:return gj}}module.exports=flatten},{}],6:[function(require,module){function normalize(gj){if(!gj||!gj.type)return null;var type=types[gj.type];return type?&quot;geometry&quot;===type?{type:&quot;FeatureCollection&quot;,features:[{type:&quot;Feature&quot;,properties:{},geometry:gj}]}:&quot;feature&quot;===type?{type:&quot;FeatureCollection&quot;,features:[gj]}:&quot;featurecollection&quot;===type?gj:void 0:null}module.exports=normalize;var types={Point:&quot;geometry&quot;,MultiPoint:&quot;geometry&quot;,LineString:&quot;geometry&quot;,MultiLineString:&quot;geometry&quot;,Polygon:&quot;geometry&quot;,MultiPolygon:&quot;geometry&quot;,GeometryCollection:&quot;geometry&quot;,Feature:&quot;feature&quot;,FeatureCollection:&quot;featurecollection&quot;}},{}],7:[function(require,module){function Traverse(obj){this.value=obj}function walk(root,cb,immutable){var path=[],parents=[],alive=!0;return function walker(node_){function updateState(){if(&quot;object&quot;==typeof state.node&amp;&amp;null!==state.node){state.keys&amp;&amp;state.node_===state.node||(state.keys=objectKeys(state.node)),state.isLeaf=0==state.keys.length;for(var i=0;i<parents.length;i++)if(parents[i].node_===node_){state.circular=parents[i];break}}else state.isLeaf=!0,state.keys=null;state.notLeaf=!state.isLeaf,state.notRoot=!state.isRoot}var node=immutable?copy(node_):node_,modifiers={},keepGoing=!0,state={node:node,node_:node_,path:[].concat(path),parent:parents[parents.length-1],parents:parents,key:path.slice(-1)[0],isRoot:0===path.length,level:path.length,circular:null,update:function(x,stopHere){state.isRoot||(state.parent.node[state.key]=x),state.node=x,stopHere&amp;&amp;(keepGoing=!1)},&quot;delete&quot;:function(stopHere){delete state.parent.node[state.key],stopHere&amp;&amp;(keepGoing=!1)},remove:function(stopHere){isArray(state.parent.node)?state.parent.node.splice(state.key,1):delete state.parent.node[state.key],stopHere&amp;&amp;(keepGoing=!1)},keys:null,before:function(f){modifiers.before=f},after:function(f){modifiers.after=f},pre:function(f){modifiers.pre=f},post:function(f){modifiers.post=f},stop:function(){alive=!1},block:function(){keepGoing=!1}};if(!alive)return state;updateState();var ret=cb.call(state,state.node);return void 0!==ret&amp;&amp;state.update&amp;&amp;state.update(ret),modifiers.before&amp;&amp;modifiers.before.call(state,state.node),keepGoing?(&quot;object&quot;!=typeof state.node||null===state.node||state.circular||(parents.push(state),updateState(),forEach(state.keys,function(key,i){path.push(key),modifiers.pre&amp;&amp;modifiers.pre.call(state,state.node[key],key);var child=walker(state.node[key]);immutable&amp;&amp;hasOwnProperty.call(state.node,key)&amp;&amp;(state.node[key]=child.node),child.isLast=i==state.keys.length-1,child.isFirst=0==i,modifiers.post&amp;&amp;modifiers.post.call(state,child),path.pop()}),parents.pop()),modifiers.after&amp;&amp;modifiers.after.call(state,state.node),state):state}(root).node}function copy(src){if(&quot;object&quot;==typeof src&amp;&amp;null!==src){var dst;if(isArray(src))dst=[];else if(isDate(src))dst=new Date(src.getTime?src.getTime():src);else if(isRegExp(src))dst=new RegExp(src);else if(isError(src))dst={message:src.message};else if(isBoolean(src))dst=new Boolean(src);else if(isNumber(src))dst=new Number(src);else if(isString(src))dst=new String(src);else if(Object.create&amp;&amp;Object.getPrototypeOf)dst=Object.create(Object.getPrototypeOf(src));else if(src.constructor===Object)dst={};else{var proto=src.constructor&amp;&amp;src.constructor.prototype||src.__proto__||{},T=function(){};T.prototype=proto,dst=new T}return forEach(objectKeys(src),function(key){dst[key]=src[key]}),dst}return src}function toS(obj){return Object.prototype.toString.call(obj)}function isDate(obj){return&quot;[object Date]&quot;===toS(obj)}function isRegExp(obj){return&quot;[object RegExp]&quot;===toS(obj)}function isError(obj){return&quot;[object Error]&quot;===toS(obj)}function isBoolean(obj){return&quot;[object Boolean]&quot;===toS(obj)}function isNumber(obj){return&quot;[object Number]&quot;===toS(obj)}function isString(obj){return&quot;[object String]&quot;===toS(obj)}var traverse=module.exports=function(obj){return new Traverse(obj)};Traverse.prototype.get=function(ps){for(var node=this.value,i=0;i<ps.length;i++){var key=ps[i];if(!node||!hasOwnProperty.call(node,key)){node=void 0;break}node=node[key]}return node},Traverse.prototype.has=function(ps){for(var node=this.value,i=0;i<ps.length;i++){var key=ps[i];if(!node||!hasOwnProperty.call(node,key))return!1;node=node[key]}return!0},Traverse.prototype.set=function(ps,value){for(var node=this.value,i=0;i<ps.length-1;i++){var key=ps[i];hasOwnProperty.call(node,key)||(node[key]={}),node=node[key]}return node[ps[i]]=value,value},Traverse.prototype.map=function(cb){return walk(this.value,cb,!0)},Traverse.prototype.forEach=function(cb){return this.value=walk(this.value,cb,!1),this.value},Traverse.prototype.reduce=function(cb,init){var skip=1===arguments.length,acc=skip?this.value:init;return this.forEach(function(x){this.isRoot&amp;&amp;skip||(acc=cb.call(this,acc,x))}),acc},Traverse.prototype.paths=function(){var acc=[];return this.forEach(function(){acc.push(this.path)}),acc},Traverse.prototype.nodes=function(){var acc=[];return this.forEach(function(){acc.push(this.node)}),acc},Traverse.prototype.clone=function(){var parents=[],nodes=[];return function clone(src){for(var i=0;i<parents.length;i++)if(parents[i]===src)return nodes[i];if(&quot;object&quot;==typeof src&amp;&amp;null!==src){var dst=copy(src);return parents.push(src),nodes.push(dst),forEach(objectKeys(src),function(key){dst[key]=clone(src[key])}),parents.pop(),nodes.pop(),dst}return src}(this.value)};var objectKeys=Object.keys||function(obj){var res=[];for(var key in obj)res.push(key);return res},isArray=Array.isArray||function(xs){return&quot;[object Array]&quot;===Object.prototype.toString.call(xs)},forEach=function(xs,fn){if(xs.forEach)return xs.forEach(fn);for(var i=0;i<xs.length;i++)fn(xs[i],i,xs)};forEach(objectKeys(Traverse.prototype),function(key){traverse[key]=function(obj){var args=[].slice.call(arguments,1),t=new Traverse(obj);return t[key].apply(t,args)}});var hasOwnProperty=Object.hasOwnProperty||function(obj,key){return key in obj}},{}]},{},[1])(1)});    \n",
       "    var comment = &quot;&quot;;\n",
       "    mapboxgl.accessToken=&quot;pk.eyJ1IjoibWFwYm94IiwiYSI6ImNpejY4M29iazA2Z2gycXA4N2pmbDZmangifQ.-g_vE53SD2WrJ6tFX7QHmA&quot;;\n",
       "    var mapdata = null;\n",
       "    var map = new mapboxgl.Map({\n",
       "        container: &quot;map-e7a89490-7b4b711b&quot;,\n",
       "        style: &quot;mapbox://styles/mapbox/light-v9&quot;\n",
       "    });\n",
       "\n",
       "    setTimeout(function(){\n",
       "        if (window.addPDMessageListener){\n",
       "            window.addPDMessageListener(function(event){\n",
       "                streamingLayer = map.getSource(&quot;streamingLayer&quot;);\n",
       "                if (streamingLayer){\n",
       "                    streamingLayer.setData(event.data.data);\n",
       "                }else{\n",
       "                    map.addLayer({\n",
       "                        &quot;id&quot;: &quot;streamingLayer&quot;,\n",
       "                        &quot;maptype&quot;: &quot;mapbox&quot;,\n",
       "                        &quot;type&quot;: event.data.type,\n",
       "                        &quot;source&quot;: { type: &quot;geojson&quot;, data: event.data.data },\n",
       "                        &quot;layout&quot;: event.data.layout || {},\n",
       "                        &quot;paint&quot;: event.data.paint || {}\n",
       "                    });\n",
       "                    if (event.data.fitbounds &amp;&amp; event.data.data.features){\n",
       "                        function updateBounds(res, ar){\n",
       "                            if (ar[0].length >=2 &amp;&amp; ar[1].length >= 2 ){\n",
       "                                if (!res){\n",
       "                                    return ar;\n",
       "                                }\n",
       "                                return [ \n",
       "                                    [Math.min( ar[0][0]-0.1, res[0][0]), Math.min( ar[0][1]-0.1, res[0][1])],\n",
       "                                    [Math.max( ar[1][0]+0.1, res[1][0]), Math.max( ar[1][1]+0.1, res[1][1])]\n",
       "                                ]\n",
       "                            }\n",
       "                            return null;\n",
       "                        }\n",
       "                        var bbox = event.data.data.features.reduce(function(res, value){\n",
       "                            var coord = value.geometry.coordinates;\n",
       "                            if (coord.length >= 2 ){\n",
       "                                res = updateBounds( res, [coord[0], coord[1]]);\n",
       "                            }\n",
       "                            return res;\n",
       "                        }, null);\n",
       "                        if (bbox){\n",
       "                            map.fitBounds(bbox);\n",
       "                        }\n",
       "                    }\n",
       "                }\n",
       "            });\n",
       "        };\n",
       "    },100);\n",
       "\n",
       "    var popup = new mapboxgl.Popup({closeButton: false,closeOnClick: true});\n",
       "\n",
       "    function divineGeometryType(mapdata) {\n",
       "        comment = &quot;check type of first geometry. Later expand to check all geometries and make a good decision&quot;;\n",
       "        return mapdata.features[0].geometry.type;\n",
       "    }\n",
       "    \n",
       "    map.on(&quot;mousemove&quot;, function (e) {\n",
       "        var fs = map.queryRenderedFeatures(e.point,{layers:[&quot;pxlayer&quot;]});\n",
       "        if (!fs || !fs.length) {popup.remove();return;};\n",
       "        popuphtml = &quot;&quot;;\n",
       "        var hr = false;\n",
       "        fs.forEach(function(f){\n",
       "            if (hr){ \n",
       "                popuphtml += &quot;<hr>\\n&quot;;\n",
       "            }\n",
       "            hr=true;\n",
       "            popuphtml += &quot;<h3>&quot;+f.layer.id.toUpperCase()+&quot;</h3>\\n&quot;;\n",
       "            var keylength = Object.keys(f.properties).length;\n",
       "            for (var key in f.properties) {\n",
       "                popuphtml += &quot;<b>&quot;+key+&quot;: </b> &quot;+f.properties[key]+&quot;<br/>\\n&quot;;\n",
       "            }\n",
       "        });\n",
       "        popup.setLngLat(e.lngLat).setHTML(popuphtml).addTo(map);\n",
       "    });\n",
       "    \n",
       "    map.on(&quot;click&quot;, function (e) {\n",
       "        var fs = map.queryRenderedFeatures(e.point, { layers: [&quot;pxlayer&quot;] });\n",
       "        if (fs &amp;&amp; fs.length) {\n",
       "            var f = fs[0];\n",
       "            console.log(&quot;clicked&quot;, f);\n",
       "            var keylength = Object.keys(f.properties).length;\n",
       "            var payload = {type:&quot;select&quot;, targetDivId: &quot;&quot; };\n",
       "\n",
       "            for (var key in f.properties) {\n",
       "                payload[key] = f.properties[key];\n",
       "            }\n",
       "\n",
       "            if (window.triggerPDEvent) {\n",
       "                window.triggerPDEvent(payload);\n",
       "            }\n",
       "        }\n",
       "    });\n",
       "        \n",
       "    map.on(&quot;load&quot;, function() {\n",
       "        \n",
       "        mapdata={&quot;type&quot;: &quot;FeatureCollection&quot;, &quot;features&quot;: [{&quot;type&quot;: &quot;Feature&quot;, &quot;properties&quot;: {&quot;bright_t31&quot;: 302.6}, &quot;geometry&quot;: {&quot;type&quot;: &quot;Point&quot;, &quot;coordinates&quot;: [-0.249, 35.806999999999995]}}, {&quot;type&quot;: &quot;Feature&quot;, &quot;properties&quot;: {&quot;bright_t31&quot;: 307.3}, &quot;geometry&quot;: {&quot;type&quot;: &quot;Point&quot;, &quot;coordinates&quot;: [30.363000000000003, 36.289]}}, {&quot;type&quot;: &quot;Feature&quot;, &quot;properties&quot;: {&quot;bright_t31&quot;: 288.2}, &quot;geometry&quot;: {&quot;type&quot;: &quot;Point&quot;, &quot;coordinates&quot;: [7.69, 36.788000000000004]}}, {&quot;type&quot;: &quot;Feature&quot;, &quot;properties&quot;: {&quot;bright_t31&quot;: 300.0}, &quot;geometry&quot;: {&quot;type&quot;: &quot;Point&quot;, &quot;coordinates&quot;: [14.485999999999999, 36.904]}}, {&quot;type&quot;: &quot;Feature&quot;, &quot;properties&quot;: {&quot;bright_t31&quot;: 298.8}, &quot;geometry&quot;: {&quot;type&quot;: &quot;Point&quot;, &quot;coordinates&quot;: [14.357999999999999, 37.024]}}, {&quot;type&quot;: &quot;Feature&quot;, &quot;properties&quot;: {&quot;bright_t31&quot;: 299.5}, &quot;geometry&quot;: {&quot;type&quot;: &quot;Point&quot;, &quot;coordinates&quot;: [20.752, 37.777]}}, {&quot;type&quot;: &quot;Feature&quot;, &quot;properties&quot;: {&quot;bright_t31&quot;: 304.0}, &quot;geometry&quot;: {&quot;type&quot;: &quot;Point&quot;, &quot;coordinates&quot;: [13.017000000000001, 37.868]}}, {&quot;type&quot;: &quot;Feature&quot;, &quot;properties&quot;: {&quot;bright_t31&quot;: 302.8}, &quot;geometry&quot;: {&quot;type&quot;: &quot;Point&quot;, &quot;coordinates&quot;: [13.03, 37.871]}}, {&quot;type&quot;: &quot;Feature&quot;, &quot;properties&quot;: {&quot;bright_t31&quot;: 307.7}, &quot;geometry&quot;: {&quot;type&quot;: &quot;Point&quot;, &quot;coordinates&quot;: [31.595, 37.882]}}, {&quot;type&quot;: &quot;Feature&quot;, &quot;properties&quot;: {&quot;bright_t31&quot;: 303.9}, &quot;geometry&quot;: {&quot;type&quot;: &quot;Point&quot;, &quot;coordinates&quot;: [31.884, 37.921]}}, {&quot;type&quot;: &quot;Feature&quot;, &quot;properties&quot;: {&quot;bright_t31&quot;: 304.6}, &quot;geometry&quot;: {&quot;type&quot;: &quot;Point&quot;, &quot;coordinates&quot;: [34.244, 38.273]}}, {&quot;type&quot;: &quot;Feature&quot;, &quot;properties&quot;: {&quot;bright_t31&quot;: 304.0}, &quot;geometry&quot;: {&quot;type&quot;: &quot;Point&quot;, &quot;coordinates&quot;: [26.796, 39.2]}}, {&quot;type&quot;: &quot;Feature&quot;, &quot;properties&quot;: {&quot;bright_t31&quot;: 298.7}, &quot;geometry&quot;: {&quot;type&quot;: &quot;Point&quot;, &quot;coordinates&quot;: [33.15, 39.285]}}, {&quot;type&quot;: &quot;Feature&quot;, &quot;properties&quot;: {&quot;bright_t31&quot;: 304.5}, &quot;geometry&quot;: {&quot;type&quot;: &quot;Point&quot;, &quot;coordinates&quot;: [16.672, 39.535]}}, {&quot;type&quot;: &quot;Feature&quot;, &quot;properties&quot;: {&quot;bright_t31&quot;: 296.1}, &quot;geometry&quot;: {&quot;type&quot;: &quot;Point&quot;, &quot;coordinates&quot;: [21.035999999999998, 41.003]}}, {&quot;type&quot;: &quot;Feature&quot;, &quot;properties&quot;: {&quot;bright_t31&quot;: 300.9}, &quot;geometry&quot;: {&quot;type&quot;: &quot;Point&quot;, &quot;coordinates&quot;: [21.029, 41.011]}}, {&quot;type&quot;: &quot;Feature&quot;, &quot;properties&quot;: {&quot;bright_t31&quot;: 297.0}, &quot;geometry&quot;: {&quot;type&quot;: &quot;Point&quot;, &quot;coordinates&quot;: [22.634, 41.238]}}, {&quot;type&quot;: &quot;Feature&quot;, &quot;properties&quot;: {&quot;bright_t31&quot;: 301.1}, &quot;geometry&quot;: {&quot;type&quot;: &quot;Point&quot;, &quot;coordinates&quot;: [-6.9879999999999995, 41.288000000000004]}}, {&quot;type&quot;: &quot;Feature&quot;, &quot;properties&quot;: {&quot;bright_t31&quot;: 303.7}, &quot;geometry&quot;: {&quot;type&quot;: &quot;Point&quot;, &quot;coordinates&quot;: [20.991999999999997, 41.838]}}, {&quot;type&quot;: &quot;Feature&quot;, &quot;properties&quot;: {&quot;bright_t31&quot;: 290.2}, &quot;geometry&quot;: {&quot;type&quot;: &quot;Point&quot;, &quot;coordinates&quot;: [-7.034, 42.15]}}, {&quot;type&quot;: &quot;Feature&quot;, &quot;properties&quot;: {&quot;bright_t31&quot;: 300.3}, &quot;geometry&quot;: {&quot;type&quot;: &quot;Point&quot;, &quot;coordinates&quot;: [24.415, 42.162]}}, {&quot;type&quot;: &quot;Feature&quot;, &quot;properties&quot;: {&quot;bright_t31&quot;: 290.9}, &quot;geometry&quot;: {&quot;type&quot;: &quot;Point&quot;, &quot;coordinates&quot;: [19.338, 42.498999999999995]}}, {&quot;type&quot;: &quot;Feature&quot;, &quot;properties&quot;: {&quot;bright_t31&quot;: 302.8}, &quot;geometry&quot;: {&quot;type&quot;: &quot;Point&quot;, &quot;coordinates&quot;: [24.33, 43.433]}}, {&quot;type&quot;: &quot;Feature&quot;, &quot;properties&quot;: {&quot;bright_t31&quot;: 291.3}, &quot;geometry&quot;: {&quot;type&quot;: &quot;Point&quot;, &quot;coordinates&quot;: [4.896, 43.448]}}, {&quot;type&quot;: &quot;Feature&quot;, &quot;properties&quot;: {&quot;bright_t31&quot;: 302.0}, &quot;geometry&quot;: {&quot;type&quot;: &quot;Point&quot;, &quot;coordinates&quot;: [24.698, 43.501000000000005]}}, {&quot;type&quot;: &quot;Feature&quot;, &quot;properties&quot;: {&quot;bright_t31&quot;: 299.8}, &quot;geometry&quot;: {&quot;type&quot;: &quot;Point&quot;, &quot;coordinates&quot;: [23.783, 43.548]}}, {&quot;type&quot;: &quot;Feature&quot;, &quot;properties&quot;: {&quot;bright_t31&quot;: 300.9}, &quot;geometry&quot;: {&quot;type&quot;: &quot;Point&quot;, &quot;coordinates&quot;: [23.76, 43.55]}}, {&quot;type&quot;: &quot;Feature&quot;, &quot;properties&quot;: {&quot;bright_t31&quot;: 306.2}, &quot;geometry&quot;: {&quot;type&quot;: &quot;Point&quot;, &quot;coordinates&quot;: [25.264, 43.562]}}, {&quot;type&quot;: &quot;Feature&quot;, &quot;properties&quot;: {&quot;bright_t31&quot;: 303.9}, &quot;geometry&quot;: {&quot;type&quot;: &quot;Point&quot;, &quot;coordinates&quot;: [23.533, 43.61]}}, {&quot;type&quot;: &quot;Feature&quot;, &quot;properties&quot;: {&quot;bright_t31&quot;: 306.5}, &quot;geometry&quot;: {&quot;type&quot;: &quot;Point&quot;, &quot;coordinates&quot;: [24.204, 43.619]}}, {&quot;type&quot;: &quot;Feature&quot;, &quot;properties&quot;: {&quot;bright_t31&quot;: 304.0}, &quot;geometry&quot;: {&quot;type&quot;: &quot;Point&quot;, &quot;coordinates&quot;: [23.46, 43.621]}}, {&quot;type&quot;: &quot;Feature&quot;, &quot;properties&quot;: {&quot;bright_t31&quot;: 305.9}, &quot;geometry&quot;: {&quot;type&quot;: &quot;Point&quot;, &quot;coordinates&quot;: [24.230999999999998, 43.623999999999995]}}, {&quot;type&quot;: &quot;Feature&quot;, &quot;properties&quot;: {&quot;bright_t31&quot;: 301.9}, &quot;geometry&quot;: {&quot;type&quot;: &quot;Point&quot;, &quot;coordinates&quot;: [23.938000000000002, 43.628]}}, {&quot;type&quot;: &quot;Feature&quot;, &quot;properties&quot;: {&quot;bright_t31&quot;: 302.9}, &quot;geometry&quot;: {&quot;type&quot;: &quot;Point&quot;, &quot;coordinates&quot;: [23.166, 43.688]}}, {&quot;type&quot;: &quot;Feature&quot;, &quot;properties&quot;: {&quot;bright_t31&quot;: 297.5}, &quot;geometry&quot;: {&quot;type&quot;: &quot;Point&quot;, &quot;coordinates&quot;: [4.562, 43.772]}}, {&quot;type&quot;: &quot;Feature&quot;, &quot;properties&quot;: {&quot;bright_t31&quot;: 299.6}, &quot;geometry&quot;: {&quot;type&quot;: &quot;Point&quot;, &quot;coordinates&quot;: [27.131999999999998, 43.81]}}, {&quot;type&quot;: &quot;Feature&quot;, &quot;properties&quot;: {&quot;bright_t31&quot;: 305.9}, &quot;geometry&quot;: {&quot;type&quot;: &quot;Point&quot;, &quot;coordinates&quot;: [25.736, 43.818000000000005]}}, {&quot;type&quot;: &quot;Feature&quot;, &quot;properties&quot;: {&quot;bright_t31&quot;: 300.0}, &quot;geometry&quot;: {&quot;type&quot;: &quot;Point&quot;, &quot;coordinates&quot;: [26.699, 44.025]}}, {&quot;type&quot;: &quot;Feature&quot;, &quot;properties&quot;: {&quot;bright_t31&quot;: 301.6}, &quot;geometry&quot;: {&quot;type&quot;: &quot;Point&quot;, &quot;coordinates&quot;: [23.459, 44.028]}}, {&quot;type&quot;: &quot;Feature&quot;, &quot;properties&quot;: {&quot;bright_t31&quot;: 290.7}, &quot;geometry&quot;: {&quot;type&quot;: &quot;Point&quot;, &quot;coordinates&quot;: [8.192, 44.06100000000001]}}, {&quot;type&quot;: &quot;Feature&quot;, &quot;properties&quot;: {&quot;bright_t31&quot;: 300.1}, &quot;geometry&quot;: {&quot;type&quot;: &quot;Point&quot;, &quot;coordinates&quot;: [25.522, 44.312]}}, {&quot;type&quot;: &quot;Feature&quot;, &quot;properties&quot;: {&quot;bright_t31&quot;: 301.3}, &quot;geometry&quot;: {&quot;type&quot;: &quot;Point&quot;, &quot;coordinates&quot;: [25.519000000000002, 44.321000000000005]}}, {&quot;type&quot;: &quot;Feature&quot;, &quot;properties&quot;: {&quot;bright_t31&quot;: 301.5}, &quot;geometry&quot;: {&quot;type&quot;: &quot;Point&quot;, &quot;coordinates&quot;: [22.861, 44.437]}}, {&quot;type&quot;: &quot;Feature&quot;, &quot;properties&quot;: {&quot;bright_t31&quot;: 298.1}, &quot;geometry&quot;: {&quot;type&quot;: &quot;Point&quot;, &quot;coordinates&quot;: [25.51, 44.693999999999996]}}, {&quot;type&quot;: &quot;Feature&quot;, &quot;properties&quot;: {&quot;bright_t31&quot;: 302.5}, &quot;geometry&quot;: {&quot;type&quot;: &quot;Point&quot;, &quot;coordinates&quot;: [25.955, 44.965]}}, {&quot;type&quot;: &quot;Feature&quot;, &quot;properties&quot;: {&quot;bright_t31&quot;: 301.4}, &quot;geometry&quot;: {&quot;type&quot;: &quot;Point&quot;, &quot;coordinates&quot;: [19.788, 45.105]}}, {&quot;type&quot;: &quot;Feature&quot;, &quot;properties&quot;: {&quot;bright_t31&quot;: 296.7}, &quot;geometry&quot;: {&quot;type&quot;: &quot;Point&quot;, &quot;coordinates&quot;: [10.852, 45.166000000000004]}}, {&quot;type&quot;: &quot;Feature&quot;, &quot;properties&quot;: {&quot;bright_t31&quot;: 306.5}, &quot;geometry&quot;: {&quot;type&quot;: &quot;Point&quot;, &quot;coordinates&quot;: [20.277, 45.187]}}, {&quot;type&quot;: &quot;Feature&quot;, &quot;properties&quot;: {&quot;bright_t31&quot;: 302.8}, &quot;geometry&quot;: {&quot;type&quot;: &quot;Point&quot;, &quot;coordinates&quot;: [20.284000000000002, 45.2]}}, {&quot;type&quot;: &quot;Feature&quot;, &quot;properties&quot;: {&quot;bright_t31&quot;: 297.2}, &quot;geometry&quot;: {&quot;type&quot;: &quot;Point&quot;, &quot;coordinates&quot;: [9.182, 45.371]}}, {&quot;type&quot;: &quot;Feature&quot;, &quot;properties&quot;: {&quot;bright_t31&quot;: 298.5}, &quot;geometry&quot;: {&quot;type&quot;: &quot;Point&quot;, &quot;coordinates&quot;: [11.022, 45.4]}}, {&quot;type&quot;: &quot;Feature&quot;, &quot;properties&quot;: {&quot;bright_t31&quot;: 298.2}, &quot;geometry&quot;: {&quot;type&quot;: &quot;Point&quot;, &quot;coordinates&quot;: [11.084000000000001, 45.403]}}, {&quot;type&quot;: &quot;Feature&quot;, &quot;properties&quot;: {&quot;bright_t31&quot;: 297.3}, &quot;geometry&quot;: {&quot;type&quot;: &quot;Point&quot;, &quot;coordinates&quot;: [10.86, 45.434]}}, {&quot;type&quot;: &quot;Feature&quot;, &quot;properties&quot;: {&quot;bright_t31&quot;: 304.6}, &quot;geometry&quot;: {&quot;type&quot;: &quot;Point&quot;, &quot;coordinates&quot;: [20.548000000000002, 45.43600000000001]}}, {&quot;type&quot;: &quot;Feature&quot;, &quot;properties&quot;: {&quot;bright_t31&quot;: 299.6}, &quot;geometry&quot;: {&quot;type&quot;: &quot;Point&quot;, &quot;coordinates&quot;: [27.206, 46.316]}}, {&quot;type&quot;: &quot;Feature&quot;, &quot;properties&quot;: {&quot;bright_t31&quot;: 300.0}, &quot;geometry&quot;: {&quot;type&quot;: &quot;Point&quot;, &quot;coordinates&quot;: [33.724000000000004, 46.602]}}, {&quot;type&quot;: &quot;Feature&quot;, &quot;properties&quot;: {&quot;bright_t31&quot;: 297.9}, &quot;geometry&quot;: {&quot;type&quot;: &quot;Point&quot;, &quot;coordinates&quot;: [8.273, 47.071000000000005]}}, {&quot;type&quot;: &quot;Feature&quot;, &quot;properties&quot;: {&quot;bright_t31&quot;: 286.3}, &quot;geometry&quot;: {&quot;type&quot;: &quot;Point&quot;, &quot;coordinates&quot;: [22.076999999999998, 47.465]}}, {&quot;type&quot;: &quot;Feature&quot;, &quot;properties&quot;: {&quot;bright_t31&quot;: 297.3}, &quot;geometry&quot;: {&quot;type&quot;: &quot;Point&quot;, &quot;coordinates&quot;: [34.205999999999996, 47.748999999999995]}}, {&quot;type&quot;: &quot;Feature&quot;, &quot;properties&quot;: {&quot;bright_t31&quot;: 297.0}, &quot;geometry&quot;: {&quot;type&quot;: &quot;Point&quot;, &quot;coordinates&quot;: [30.62, 48.163000000000004]}}, {&quot;type&quot;: &quot;Feature&quot;, &quot;properties&quot;: {&quot;bright_t31&quot;: 294.1}, &quot;geometry&quot;: {&quot;type&quot;: &quot;Point&quot;, &quot;coordinates&quot;: [30.616999999999997, 48.166000000000004]}}, {&quot;type&quot;: &quot;Feature&quot;, &quot;properties&quot;: {&quot;bright_t31&quot;: 298.3}, &quot;geometry&quot;: {&quot;type&quot;: &quot;Point&quot;, &quot;coordinates&quot;: [23.011, 48.403]}}, {&quot;type&quot;: &quot;Feature&quot;, &quot;properties&quot;: {&quot;bright_t31&quot;: 297.9}, &quot;geometry&quot;: {&quot;type&quot;: &quot;Point&quot;, &quot;coordinates&quot;: [8.458, 48.408]}}, {&quot;type&quot;: &quot;Feature&quot;, &quot;properties&quot;: {&quot;bright_t31&quot;: 289.0}, &quot;geometry&quot;: {&quot;type&quot;: &quot;Point&quot;, &quot;coordinates&quot;: [29.854, 48.803000000000004]}}, {&quot;type&quot;: &quot;Feature&quot;, &quot;properties&quot;: {&quot;bright_t31&quot;: 296.2}, &quot;geometry&quot;: {&quot;type&quot;: &quot;Point&quot;, &quot;coordinates&quot;: [28.896, 48.915]}}, {&quot;type&quot;: &quot;Feature&quot;, &quot;properties&quot;: {&quot;bright_t31&quot;: 283.4}, &quot;geometry&quot;: {&quot;type&quot;: &quot;Point&quot;, &quot;coordinates&quot;: [32.045, 48.933]}}, {&quot;type&quot;: &quot;Feature&quot;, &quot;properties&quot;: {&quot;bright_t31&quot;: 291.4}, &quot;geometry&quot;: {&quot;type&quot;: &quot;Point&quot;, &quot;coordinates&quot;: [34.558, 49.381]}}, {&quot;type&quot;: &quot;Feature&quot;, &quot;properties&quot;: {&quot;bright_t31&quot;: 285.8}, &quot;geometry&quot;: {&quot;type&quot;: &quot;Point&quot;, &quot;coordinates&quot;: [5.952999999999999, 49.506]}}, {&quot;type&quot;: &quot;Feature&quot;, &quot;properties&quot;: {&quot;bright_t31&quot;: 285.4}, &quot;geometry&quot;: {&quot;type&quot;: &quot;Point&quot;, &quot;coordinates&quot;: [5.957000000000001, 49.50899999999999]}}, {&quot;type&quot;: &quot;Feature&quot;, &quot;properties&quot;: {&quot;bright_t31&quot;: 289.5}, &quot;geometry&quot;: {&quot;type&quot;: &quot;Point&quot;, &quot;coordinates&quot;: [30.494, 49.955]}}, {&quot;type&quot;: &quot;Feature&quot;, &quot;properties&quot;: {&quot;bright_t31&quot;: 304.0}, &quot;geometry&quot;: {&quot;type&quot;: &quot;Point&quot;, &quot;coordinates&quot;: [26.487, 49.977]}}, {&quot;type&quot;: &quot;Feature&quot;, &quot;properties&quot;: {&quot;bright_t31&quot;: 280.0}, &quot;geometry&quot;: {&quot;type&quot;: &quot;Point&quot;, &quot;coordinates&quot;: [27.761999999999997, 50.036]}}, {&quot;type&quot;: &quot;Feature&quot;, &quot;properties&quot;: {&quot;bright_t31&quot;: 281.4}, &quot;geometry&quot;: {&quot;type&quot;: &quot;Point&quot;, &quot;coordinates&quot;: [27.747, 50.038000000000004]}}, {&quot;type&quot;: &quot;Feature&quot;, &quot;properties&quot;: {&quot;bright_t31&quot;: 295.6}, &quot;geometry&quot;: {&quot;type&quot;: &quot;Point&quot;, &quot;coordinates&quot;: [34.301, 50.193000000000005]}}, {&quot;type&quot;: &quot;Feature&quot;, &quot;properties&quot;: {&quot;bright_t31&quot;: 293.3}, &quot;geometry&quot;: {&quot;type&quot;: &quot;Point&quot;, &quot;coordinates&quot;: [28.714000000000002, 50.23]}}, {&quot;type&quot;: &quot;Feature&quot;, &quot;properties&quot;: {&quot;bright_t31&quot;: 290.8}, &quot;geometry&quot;: {&quot;type&quot;: &quot;Point&quot;, &quot;coordinates&quot;: [32.451, 50.805]}}, {&quot;type&quot;: &quot;Feature&quot;, &quot;properties&quot;: {&quot;bright_t31&quot;: 295.3}, &quot;geometry&quot;: {&quot;type&quot;: &quot;Point&quot;, &quot;coordinates&quot;: [32.433, 50.806999999999995]}}, {&quot;type&quot;: &quot;Feature&quot;, &quot;properties&quot;: {&quot;bright_t31&quot;: 293.1}, &quot;geometry&quot;: {&quot;type&quot;: &quot;Point&quot;, &quot;coordinates&quot;: [32.44, 50.806999999999995]}}, {&quot;type&quot;: &quot;Feature&quot;, &quot;properties&quot;: {&quot;bright_t31&quot;: 302.2}, &quot;geometry&quot;: {&quot;type&quot;: &quot;Point&quot;, &quot;coordinates&quot;: [32.443000000000005, 50.817]}}, {&quot;type&quot;: &quot;Feature&quot;, &quot;properties&quot;: {&quot;bright_t31&quot;: 298.2}, &quot;geometry&quot;: {&quot;type&quot;: &quot;Point&quot;, &quot;coordinates&quot;: [3.8169999999999997, 51.167]}}, {&quot;type&quot;: &quot;Feature&quot;, &quot;properties&quot;: {&quot;bright_t31&quot;: 297.7}, &quot;geometry&quot;: {&quot;type&quot;: &quot;Point&quot;, &quot;coordinates&quot;: [3.81, 51.17100000000001]}}, {&quot;type&quot;: &quot;Feature&quot;, &quot;properties&quot;: {&quot;bright_t31&quot;: 296.7}, &quot;geometry&quot;: {&quot;type&quot;: &quot;Point&quot;, &quot;coordinates&quot;: [3.82, 51.174]}}, {&quot;type&quot;: &quot;Feature&quot;, &quot;properties&quot;: {&quot;bright_t31&quot;: 302.7}, &quot;geometry&quot;: {&quot;type&quot;: &quot;Point&quot;, &quot;coordinates&quot;: [6.7139999999999995, 51.361999999999995]}}, {&quot;type&quot;: &quot;Feature&quot;, &quot;properties&quot;: {&quot;bright_t31&quot;: 290.9}, &quot;geometry&quot;: {&quot;type&quot;: &quot;Point&quot;, &quot;coordinates&quot;: [6.721, 51.364]}}, {&quot;type&quot;: &quot;Feature&quot;, &quot;properties&quot;: {&quot;bright_t31&quot;: 301.0}, &quot;geometry&quot;: {&quot;type&quot;: &quot;Point&quot;, &quot;coordinates&quot;: [6.707000000000001, 51.365]}}, {&quot;type&quot;: &quot;Feature&quot;, &quot;properties&quot;: {&quot;bright_t31&quot;: 289.9}, &quot;geometry&quot;: {&quot;type&quot;: &quot;Point&quot;, &quot;coordinates&quot;: [6.702000000000001, 51.36600000000001]}}, {&quot;type&quot;: &quot;Feature&quot;, &quot;properties&quot;: {&quot;bright_t31&quot;: 289.4}, &quot;geometry&quot;: {&quot;type&quot;: &quot;Point&quot;, &quot;coordinates&quot;: [6.7, 51.37]}}, {&quot;type&quot;: &quot;Feature&quot;, &quot;properties&quot;: {&quot;bright_t31&quot;: 287.7}, &quot;geometry&quot;: {&quot;type&quot;: &quot;Point&quot;, &quot;coordinates&quot;: [27.316999999999997, 51.426]}}, {&quot;type&quot;: &quot;Feature&quot;, &quot;properties&quot;: {&quot;bright_t31&quot;: 288.3}, &quot;geometry&quot;: {&quot;type&quot;: &quot;Point&quot;, &quot;coordinates&quot;: [6.716, 51.486000000000004]}}, {&quot;type&quot;: &quot;Feature&quot;, &quot;properties&quot;: {&quot;bright_t31&quot;: 303.3}, &quot;geometry&quot;: {&quot;type&quot;: &quot;Point&quot;, &quot;coordinates&quot;: [6.735, 51.488]}}, {&quot;type&quot;: &quot;Feature&quot;, &quot;properties&quot;: {&quot;bright_t31&quot;: 287.4}, &quot;geometry&quot;: {&quot;type&quot;: &quot;Point&quot;, &quot;coordinates&quot;: [10.414000000000001, 52.153]}}, {&quot;type&quot;: &quot;Feature&quot;, &quot;properties&quot;: {&quot;bright_t31&quot;: 280.1}, &quot;geometry&quot;: {&quot;type&quot;: &quot;Point&quot;, &quot;coordinates&quot;: [10.397, 52.158]}}, {&quot;type&quot;: &quot;Feature&quot;, &quot;properties&quot;: {&quot;bright_t31&quot;: 282.3}, &quot;geometry&quot;: {&quot;type&quot;: &quot;Point&quot;, &quot;coordinates&quot;: [10.42, 52.173]}}, {&quot;type&quot;: &quot;Feature&quot;, &quot;properties&quot;: {&quot;bright_t31&quot;: 280.1}, &quot;geometry&quot;: {&quot;type&quot;: &quot;Point&quot;, &quot;coordinates&quot;: [4.789, 52.244]}}, {&quot;type&quot;: &quot;Feature&quot;, &quot;properties&quot;: {&quot;bright_t31&quot;: 286.1}, &quot;geometry&quot;: {&quot;type&quot;: &quot;Point&quot;, &quot;coordinates&quot;: [25.254, 52.786]}}, {&quot;type&quot;: &quot;Feature&quot;, &quot;properties&quot;: {&quot;bright_t31&quot;: 301.1}, &quot;geometry&quot;: {&quot;type&quot;: &quot;Point&quot;, &quot;coordinates&quot;: [7.397, 52.795]}}, {&quot;type&quot;: &quot;Feature&quot;, &quot;properties&quot;: {&quot;bright_t31&quot;: 288.9}, &quot;geometry&quot;: {&quot;type&quot;: &quot;Point&quot;, &quot;coordinates&quot;: [31.041, 52.957]}}, {&quot;type&quot;: &quot;Feature&quot;, &quot;properties&quot;: {&quot;bright_t31&quot;: 301.9}, &quot;geometry&quot;: {&quot;type&quot;: &quot;Point&quot;, &quot;coordinates&quot;: [8.686, 53.133]}}, {&quot;type&quot;: &quot;Feature&quot;, &quot;properties&quot;: {&quot;bright_t31&quot;: 282.5}, &quot;geometry&quot;: {&quot;type&quot;: &quot;Point&quot;, &quot;coordinates&quot;: [28.124000000000002, 53.393]}}, {&quot;type&quot;: &quot;Feature&quot;, &quot;properties&quot;: {&quot;bright_t31&quot;: 284.8}, &quot;geometry&quot;: {&quot;type&quot;: &quot;Point&quot;, &quot;coordinates&quot;: [23.549, 63.989]}}]};\n",
       "        geomtype = divineGeometryType(mapdata);\n",
       "        \n",
       "            var ds = {\n",
       "                &quot;type&quot;:&quot;geojson&quot;,\n",
       "                &quot;data&quot;:mapdata\n",
       "            };\n",
       "            var clusterme = false;\n",
       "            if (geomtype.substr(-5,5) == &quot;Point&quot;) {\n",
       "                \n",
       "                    clusterme = true;\n",
       "                    ds[&quot;cluster&quot;] = true;\n",
       "                    ds[&quot;clusterMaxZoom&quot;] = 14;\n",
       "                    ds[&quot;clusterRadius&quot;] = 20;\n",
       "                    console.log(&quot;IM CLUSTERED&quot;);\n",
       "                \n",
       "            }\n",
       "            map.addSource(&quot;pxdatasource&quot;, ds);\n",
       "\n",
       "            var maplayertype = &quot;circle&quot;;\n",
       "            if (geomtype.substr(-7,7) == &quot;Polygon&quot;) \n",
       "                maplayertype = &quot;fill&quot;;\n",
       "            else if (geomtype.substr(-10,10) == &quot;LineString&quot;)\n",
       "                maplayertype = &quot;line&quot;;\n",
       "            map.addLayer({\n",
       "                &quot;id&quot;:&quot;pxlayer&quot;,\n",
       "                &quot;type&quot;:maplayertype, \n",
       "                &quot;source&quot;: &quot;pxdatasource&quot;, \n",
       "                &quot;paint&quot;: {&quot;circle-opacity&quot;: 0.25, &quot;circle-color&quot;: {&quot;property&quot;: &quot;bright_t31&quot;, &quot;stops&quot;: [[280.0, &quot;#ffffcc&quot;], [290.9, &quot;#acf98d&quot;], [298.4, &quot;#56ec97&quot;], [302.275, &quot;#26bdd7&quot;], [307.7, &quot;#253494&quot;]]}, &quot;circle-radius&quot;: 12}\n",
       "            });\n",
       "            \n",
       "            if (clusterme &amp;&amp; geomtype.substr(-5,5) == &quot;Point&quot;) {\n",
       "                map.addLayer({\n",
       "                    &quot;id&quot;: &quot;cluster-count-labels&quot;, \n",
       "                    &quot;type&quot;: &quot;symbol&quot;, \n",
       "                    &quot;source&quot;: &quot;pxdatasource&quot;, \n",
       "                    &quot;paint&quot;: {\n",
       "                        &quot;text-color&quot;: &quot;#FFF&quot;\n",
       "                    },\n",
       "                    &quot;layout&quot;: {\n",
       "                        &quot;text-field&quot;: &quot;{point_count}&quot;, \n",
       "                        &quot;text-font&quot;: [\n",
       "                            &quot;DIN Offc Pro Medium&quot;, \n",
       "                            &quot;Arial Unicode MS Bold&quot;\n",
       "                        ],\n",
       "                        &quot;text-size&quot;: 12\n",
       "                    }\n",
       "                });\n",
       "            }\n",
       "        \n",
       "        \n",
       "\n",
       "        comment = &quot;Add user layers&quot;;\n",
       "        var layers = [];\n",
       "        \n",
       "        layers.sort(function(a,b) {\n",
       "            return a[1] - b[1];\n",
       "        });\n",
       "        for (layersi=layers.length-1; layersi>=0; layersi--) {\n",
       "            map.addLayer(layers[layersi][0]);\n",
       "            comment = &quot;User layer legend&quot;;\n",
       "            \n",
       "        }\n",
       "        \n",
       "        map.fitBounds([[-7.034, 35.806999999999995], [34.558, 63.989]]);\n",
       "        \n",
       "        \n",
       "    });\n",
       "</script>\n",
       "</body>\n",
       "</html>\" onload=\"iframeLoaded(this)\"></iframe>\n",
       "<script>\n",
       "  var iframe = document.getElementById('mapframee7a89490');\n",
       "  iframe.setAttribute('srcdoc', atob('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'));\n",
       "</script>\n",
       "\n",
       "        </div>"
      ],
      "text/plain": [
       "<IPython.core.display.HTML object>"
      ]
     },
     "metadata": {},
     "output_type": "display_data"
    }
   ],
   "source": [
    "display(incidents2)"
   ]
  }
 ],
 "metadata": {
  "kernelspec": {
   "display_name": "Python with Pixiedust (Spark 2.2)",
   "language": "python",
   "name": "pythonwithpixiedustspark22"
  },
  "language_info": {
   "codemirror_mode": {
    "name": "ipython",
    "version": 3
   },
   "file_extension": ".py",
   "mimetype": "text/x-python",
   "name": "python",
   "nbconvert_exporter": "python",
   "pygments_lexer": "ipython3",
   "version": "3.5.2"
  }
 },
 "nbformat": 4,
 "nbformat_minor": 2
}

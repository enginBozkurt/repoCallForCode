{
 "cells": [
  {
   "cell_type": "code",
   "execution_count": 1,
   "metadata": {},
   "outputs": [],
   "source": [
    "from itertools import product\n",
    "from PIL import Image\n",
    "from osgeo import gdal\n",
    "import numpy as np\n",
    "import matplotlib.pyplot as plot\n",
    "from gdalconst import*\n",
    "from osgeo import ogr\n",
    "import numpy as np\n",
    "from sklearn import metrics\n",
    "from collections import Counter\n",
    "from sklearn.datasets import make_classification\n",
    "from sklearn.metrics import confusion_matrix\n",
    "import matplotlib.pyplot as plt\n",
    "from sklearn.datasets import make_classification\n",
    "from imblearn.over_sampling import RandomOverSampler \n",
    "from sklearn.model_selection import train_test_split\n",
    "from itertools import cycle\n",
    "from sklearn import svm, datasets\n",
    "import matplotlib as mpl\n",
    "import matplotlib.pyplot as plt\n",
    "import itertools\n",
    "import pandas as pd\n",
    "import random\n",
    "from collections import Counter\n",
    "from sklearn.datasets import make_classification\n",
    "from imblearn.under_sampling import RandomUnderSampler \n",
    "from sklearn.ensemble import RandomForestClassifier"
   ]
  },
  {
   "cell_type": "code",
   "execution_count": 2,
   "metadata": {},
   "outputs": [],
   "source": [
    "#4 creating variables for band files taken from the landscape file of 2012\n",
    "#4 bands include - Elevation, Aspect, Slope, Fuel Model Number\n",
    "\n",
    "\n",
    "#year 2012\n",
    "band1_12 = 'C:/Users/Lenovo/Documents/Call for CODE project/Analyzing-and-Predicting-Wildfires/machineLearningModels/data/band1_.tif'\n",
    "band2_12 = 'C:/Users/Lenovo/Documents/Call for CODE project/Analyzing-and-Predicting-Wildfires/machineLearningModels/data/band2_.tif'\n",
    "band3_12 = 'C:/Users/Lenovo/Documents/Call for CODE project/Analyzing-and-Predicting-Wildfires/machineLearningModels/data/band3_.tif'\n",
    "band4_12 = 'C:/Users/Lenovo/Documents/Call for CODE project/Analyzing-and-Predicting-Wildfires/machineLearningModels/data/band1_.tif'\n",
    "\n",
    "#this file has cumulative fire frequencies from 1992 - 2012\n",
    "fireFreq = 'C:/Users/Lenovo/Documents/Call for CODE project/Analyzing-and-Predicting-Wildfires/machineLearningModels/data/fire92_12_.tif'\n",
    "\n",
    "\n",
    "#opening all the band files using gdal\n",
    "dataset1_12 = gdal.Open(band1_12, GA_ReadOnly)\n",
    "dataset2_12 = gdal.Open(band2_12, GA_ReadOnly)\n",
    "dataset3_12 = gdal.Open(band3_12, GA_ReadOnly)\n",
    "dataset4_12 = gdal.Open(band4_12, GA_ReadOnly)\n",
    "dataset_fireFreq = gdal.Open(fireFreq, GA_ReadOnly)\n",
    "\n"
   ]
  },
  {
   "cell_type": "code",
   "execution_count": 3,
   "metadata": {
    "scrolled": false
   },
   "outputs": [],
   "source": [
    "#getting individual bands for 2012\n",
    "band_fireFreq = dataset_fireFreq.GetRasterBand(1)\n",
    "band1_12 = dataset1_12.GetRasterBand(1)\n",
    "band2_12 = dataset2_12.GetRasterBand(1)\n",
    "band3_12 = dataset3_12.GetRasterBand(1)\n",
    "band4_12 = dataset4_12.GetRasterBand(1)\n",
    "\n",
    "#get data in the numpy arrays for 2012\n",
    "data_fireFreq =  np.array(band_fireFreq.ReadAsArray(0,0,band_fireFreq.XSize, band_fireFreq.YSize)) \n",
    "data1_12 = np.array(band1_12.ReadAsArray(0,0,band1_12.XSize, band1_12.YSize))\n",
    "data2_12 = np.array(band2_12.ReadAsArray(0,0,band2_12.XSize, band2_12.YSize))\n",
    "data3_12 = np.array(band3_12.ReadAsArray(0,0,band3_12.XSize, band3_12.YSize))\n",
    "data4_12 = np.array(band4_12.ReadAsArray(0,0,band4_12.XSize, band4_12.YSize))"
   ]
  },
  {
   "cell_type": "code",
   "execution_count": 4,
   "metadata": {},
   "outputs": [],
   "source": [
    "#Flattening the arrays\n",
    "data1_12 = np.reshape(data1_12, data1_12.size)\n",
    "data2_12 = np.reshape(data2_12, data2_12.size)\n",
    "data3_12 = np.reshape(data3_12, data3_12.size)\n",
    "data4_12 = np.reshape(data4_12, data4_12.size)\n",
    "data_fireFreq = np.reshape(data_fireFreq, data_fireFreq.size)"
   ]
  },
  {
   "cell_type": "code",
   "execution_count": 5,
   "metadata": {},
   "outputs": [],
   "source": [
    "#Creating variables for Fire Parameters\n",
    "\n",
    "#file for 2013-14 - this file has 1/0 if the fire happened in 2013-2014/ or not\n",
    "fireParamFile_14 = 'C:/Users/Lenovo/Documents/Call for CODE project/Analyzing-and-Predicting-Wildfires/machineLearningModels/data/fire2014_.tif'\n",
    "\n",
    "#opening the files using gdal\n",
    "fireDataset_14 = gdal.Open(fireParamFile_14, GA_ReadOnly)\n",
    "\n",
    "#getting the raster band 1 \n",
    "fireBand1_14 = fireDataset_14.GetRasterBand(1)\n",
    "\n",
    "#converting the rasterized values in arrays\n",
    "data5_14 =  np.array(fireBand1_14.ReadAsArray(0,0,fireBand1_14.XSize, fireBand1_14.YSize))"
   ]
  },
  {
   "cell_type": "code",
   "execution_count": 6,
   "metadata": {},
   "outputs": [
    {
     "data": {
      "image/png": "[encoded data removed]",
      "text/plain": [
       "<Figure size 432x288 with 1 Axes>"
      ]
     },
     "metadata": {},
     "output_type": "display_data"
    }
   ],
   "source": [
    "#Plotting the fire band\n",
    "a = data5_14\n",
    "plt.imshow(a, cmap='hot', interpolation='nearest')\n",
    "plt.show()"
   ]
  },
  {
   "cell_type": "code",
   "execution_count": 7,
   "metadata": {},
   "outputs": [],
   "source": [
    "#flattening the fire band\n",
    "data5_14 = np.reshape(data5_14, data5_14.size)"
   ]
  },
  {
   "cell_type": "code",
   "execution_count": 8,
   "metadata": {},
   "outputs": [
    {
     "name": "stdout",
     "output_type": "stream",
     "text": [
      "(5, 4665108)\n",
      "Original dataset Shape Counter({0.0: 4596878, 1.0: 68230})\n"
     ]
    }
   ],
   "source": [
    "#creating feature vector using complete data\n",
    "#5 FEATURES-  Fire Frequency, Elevation, Slope, Aspect, Fuel Model Number\n",
    "data_t = []\n",
    "data_t.append(data_fireFreq)\n",
    "data_t.append(data1_12)\n",
    "data_t.append(data2_12)\n",
    "data_t.append(data3_12)\n",
    "data_t.append(data4_12)\n",
    "data = np.array(data_t)\n",
    "print(data.shape)\n",
    "data = data.T\n",
    "\n",
    "#feature vector is X\n",
    "X = data\n",
    "\n",
    "#target vector is y\n",
    "y = data5_14\n",
    "\n",
    "print('Original dataset Shape {}'.format(Counter(y)))"
   ]
  },
  {
   "cell_type": "code",
   "execution_count": 9,
   "metadata": {
    "scrolled": false
   },
   "outputs": [
    {
     "name": "stdout",
     "output_type": "stream",
     "text": [
      "          Ff         E         S         A        FM         C\n",
      "Ff  1.000000  0.083812  0.246805  0.152234  0.083812  0.018798\n",
      "E   0.083812  1.000000  0.306614  0.149148  1.000000  0.077342\n",
      "S   0.246805  0.306614  1.000000  0.310003  0.306614  0.071563\n",
      "A   0.152234  0.149148  0.310003  1.000000  0.149148 -0.021614\n",
      "FM  0.083812  1.000000  0.306614  0.149148  1.000000  0.077342\n",
      "C   0.018798  0.077342  0.071563 -0.021614  0.077342  1.000000\n"
     ]
    },
    {
     "data": {
      "image/png": "[encoded data removed]",
      "text/plain": [
       "<Figure size 432x288 with 2 Axes>"
      ]
     },
     "metadata": {},
     "output_type": "display_data"
    }
   ],
   "source": [
    "names = ['Ff','E', 'S','A','FM','C']\n",
    "X_pd = pd.DataFrame(X, columns=names[0:5])\n",
    "X_pd['C'] = y\n",
    "correlations = X_pd.corr()\n",
    "print(correlations)\n",
    "fig = plt.figure()\n",
    "ax = fig.add_subplot(111)\n",
    "cax = ax.matshow(correlations, cmap='YlGnBu', vmin=-1, vmax=1)\n",
    "fig.colorbar(cax)\n",
    "ticks = np.arange(0,6,1)\n",
    "ax.set_xticks(ticks)\n",
    "ax.set_yticks(ticks)\n",
    "ax.set_xticklabels(names)\n",
    "ax.set_yticklabels(names)\n",
    "plt.show()"
   ]
  },
  {
   "cell_type": "code",
   "execution_count": 10,
   "metadata": {},
   "outputs": [
    {
     "name": "stdout",
     "output_type": "stream",
     "text": [
      "(3732086, 5)\n"
     ]
    }
   ],
   "source": [
    "#creating test set and training set  using train_test_split\n",
    "#Split arrays or matrices into random train and test subsets in ratios 80:20\n",
    "#option stratify is used\n",
    "X_indices = []\n",
    "X_indices = list(range(y.shape[0]))\n",
    "X_indices = np.asarray(X_indices)\n",
    "X_train = []\n",
    "X_test = []\n",
    "X_test_map = np.zeros(shape=(a.shape[0], a.shape[1]))\n",
    "\n",
    "\n",
    "X_indices_train, X_indices_test, y_train, y_test = train_test_split(X_indices, y, test_size = 0.2, stratify = y)\n",
    "\n",
    "for i in range(len(X_indices_train)):\n",
    "    X_train.append(data[X_indices_train[i]])\n",
    "\n",
    "    \n",
    "for i in range(len(X_indices_test)):\n",
    "    r = X_indices_test[i]//a.shape[1]\n",
    "    c = X_indices_test[i] - r*a.shape[1]\n",
    "    X_test.append(data[X_indices_test[i]])\n",
    "    if y_test[i] == 1:\n",
    "        X_test_map[r][c] = 1\n",
    "      \n",
    "\n",
    "\n",
    "    \n",
    "X_train = np.asarray(X_train)    \n",
    "X_test = np.asarray(X_test)\n",
    "print(X_train.shape)"
   ]
  },
  {
   "cell_type": "code",
   "execution_count": 11,
   "metadata": {
    "scrolled": true
   },
   "outputs": [
    {
     "data": {
      "image/png": "[encoded data removed]",
      "text/plain": [
       "<Figure size 432x288 with 1 Axes>"
      ]
     },
     "metadata": {},
     "output_type": "display_data"
    }
   ],
   "source": [
    "#Plotting the test data\n",
    "test_map = np.asarray(X_test_map)\n",
    "plt.imshow(test_map, cmap='hot', interpolation='nearest')\n",
    "plt.show()"
   ]
  },
  {
   "cell_type": "code",
   "execution_count": 12,
   "metadata": {},
   "outputs": [
    {
     "name": "stdout",
     "output_type": "stream",
     "text": [
      "Resampled shape of the training set after applying Random Under Sampler Counter({0.0: 54584, 1.0: 54584})\n"
     ]
    }
   ],
   "source": [
    "#Solving Class Imbalance problem using- Random Under Sampler\n",
    "\n",
    "#fitting the training set on Random Under Sampler\n",
    "rus = RandomUnderSampler(random_state=42)\n",
    "X_rus, y_rus = rus.fit_sample(X_train, y_train)\n",
    "\n",
    "print('Resampled shape of the training set after applying Random Under Sampler {}'.format(Counter(y_rus)))\n",
    "\n",
    "#Fitting the Random Under Sampler'd  training set to classifier\n",
    "classifier_original = RandomForestClassifier(random_state=42)\n",
    "classifier_original = classifier_original.fit(X_rus, y_rus)\n",
    "\n",
    "y_predict_test = classifier_original.predict(X_test)"
   ]
  },
  {
   "cell_type": "code",
   "execution_count": 13,
   "metadata": {},
   "outputs": [
    {
     "data": {
      "image/png": "[encoded data removed]",
      "text/plain": [
       "<Figure size 432x288 with 1 Axes>"
      ]
     },
     "metadata": {},
     "output_type": "display_data"
    }
   ],
   "source": [
    "#Plotting the predicted test data\n",
    "X_test_predict_map = np.zeros(shape=(a.shape[0], a.shape[1]))\n",
    "    \n",
    "for i in range(len(X_indices_test)):\n",
    "    r = X_indices_test[i]//a.shape[1]\n",
    "    c = X_indices_test[i] - r*a.shape[1]\n",
    "    if y_predict_test[i] == 1:\n",
    "        X_test_predict_map[r][c] = 1\n",
    "      \n",
    "    \n",
    "X_test_predict_map = np.asarray(X_test_predict_map)\n",
    "plt.imshow(X_test_predict_map, cmap='hot', interpolation='nearest')\n",
    "plt.show()"
   ]
  },
  {
   "cell_type": "code",
   "execution_count": 14,
   "metadata": {},
   "outputs": [
    {
     "name": "stdout",
     "output_type": "stream",
     "text": [
      "Confusion matrix, without normalization\n",
      "[[765164 154212]\n",
      " [  2425  11221]]\n",
      "Normalized confusion matrix\n",
      "[[0.83 0.17]\n",
      " [0.18 0.82]]\n"
     ]
    },
    {
     "data": {
      "image/png": "[encoded data removed]",
      "text/plain": [
       "<Figure size 432x288 with 2 Axes>"
      ]
     },
     "metadata": {},
     "output_type": "display_data"
    },
    {
     "data": {
      "image/png": "[encoded data removed]",
      "text/plain": [
       "<Figure size 432x288 with 2 Axes>"
      ]
     },
     "metadata": {},
     "output_type": "display_data"
    }
   ],
   "source": [
    "#Confusion matrix \n",
    "#C is such that C_{i, j} is equal to the number of observations known to be in group i \n",
    "#but predicted to be in group j.\n",
    "#Thus in binary classification, the count of true negatives is C_{0,0}, \n",
    "#false negatives is C_{1,0}, true positives is C_{1,1} and false positives is C_{0,1}.\n",
    "\n",
    "class_names = ['Non- burnt', 'burnt']\n",
    "def plot_confusion_matrix(cm, classes,\n",
    "                          normalize=False,\n",
    "                          title='Confusion matrix',\n",
    "                          cmap=plt.cm.Blues):\n",
    "    \"\"\"\n",
    "    This function prints and plots the confusion matrix.\n",
    "    Normalization can be applied by setting `normalize=True`.\n",
    "    \"\"\"\n",
    "    plt.imshow(cm, interpolation='nearest', cmap=cmap)\n",
    "    plt.title(title)\n",
    "    plt.colorbar()\n",
    "    tick_marks = np.arange(len(classes))\n",
    "    plt.xticks(tick_marks, classes, rotation=45)\n",
    "    plt.yticks(tick_marks, classes)\n",
    "\n",
    "    if normalize:\n",
    "        cm = cm.astype('float') / cm.sum(axis=1)[:, np.newaxis]\n",
    "        print(\"Normalized confusion matrix\")\n",
    "    else:\n",
    "        print('Confusion matrix, without normalization')\n",
    "\n",
    "    print(cm)\n",
    "\n",
    "    thresh = cm.max() / 2.\n",
    "    for i, j in itertools.product(range(cm.shape[0]), range(cm.shape[1])):\n",
    "        plt.text(j, i, cm[i, j],\n",
    "                 horizontalalignment=\"center\",\n",
    "                 color=\"white\" if cm[i, j] > thresh else \"black\")\n",
    "\n",
    "    plt.tight_layout()\n",
    "    plt.ylabel('True label')\n",
    "    plt.xlabel('Predicted label')\n",
    "\n",
    "# Compute confusion matrix\n",
    "cnf_matrix = confusion_matrix(y_test, y_predict_test)\n",
    "np.set_printoptions(precision=2)\n",
    "\n",
    "# Plot non-normalized confusion matrix\n",
    "plt.figure()\n",
    "plot_confusion_matrix(cnf_matrix, classes=class_names,title='Confusion matrix, without normalization')\n",
    "\n",
    "# Plot normalized confusion matrix\n",
    "plt.figure()\n",
    "plot_confusion_matrix(cnf_matrix, classes=class_names, normalize=True, title='Normalized confusion matrix')\n",
    "plt.show()"
   ]
  },
  {
   "cell_type": "code",
   "execution_count": 15,
   "metadata": {},
   "outputs": [
    {
     "data": {
      "image/png": "[encoded data removed]",
      "text/plain": [
       "<Figure size 432x288 with 1 Axes>"
      ]
     },
     "metadata": {},
     "output_type": "display_data"
    }
   ],
   "source": [
    "from sklearn.metrics import roc_curve, auc\n",
    "\n",
    "#finding prediction for class 1 that is class Burnt\n",
    "y_pred_prob = classifier_original.predict_proba(X_test)[:,1]\n",
    "false_positive_rate_1, true_positive_rate_1, thresholds_1 = roc_curve(y_test, y_pred_prob)\n",
    "roc_auc_1 = auc(false_positive_rate_1, true_positive_rate_1)\n",
    "\n",
    "plt.title('Receiver Operating Characteristic Curve')\n",
    "plt.plot(false_positive_rate_1, true_positive_rate_1, 'b',label='AUC = %0.2f'% roc_auc_1)\n",
    "plt.legend(loc='lower right')\n",
    "plt.plot([0,1],[0,1],'r--')\n",
    "plt.xlim([-0.1,1.2])\n",
    "plt.ylim([-0.1,1.2])\n",
    "plt.ylabel('True Positive Rate')\n",
    "plt.xlabel('False Positive Rate')\n",
    "plt.show()"
   ]
  },
  {
   "cell_type": "code",
   "execution_count": 16,
   "metadata": {},
   "outputs": [
    {
     "name": "stdout",
     "output_type": "stream",
     "text": [
      "GridSearchCV took 487.56 seconds for 9 candidate parameter settings.\n"
     ]
    }
   ],
   "source": [
    "#using Grid Search CV\n",
    "from sklearn.model_selection import GridSearchCV\n",
    "from time import time\n",
    "\n",
    "\n",
    "param_grid = {\"n_estimators\":[20,30,40,50,60,70,80, 90, 100]\n",
    "              }\n",
    "\n",
    "# run grid search\n",
    "grid_search = GridSearchCV(classifier_original, param_grid=param_grid)\n",
    "start = time()\n",
    "grid_search.fit(X_rus, y_rus)\n",
    "\n",
    "print(\"GridSearchCV took %.2f seconds for %d candidate parameter settings.\"\n",
    "      % (time() - start, len(grid_search.cv_results_['params'])))\n"
   ]
  },
  {
   "cell_type": "code",
   "execution_count": 17,
   "metadata": {},
   "outputs": [
    {
     "name": "stdout",
     "output_type": "stream",
     "text": [
      "Model with rank: 1\n",
      "Mean validation score: 0.835 (std: 0.000)\n",
      "Parameters: {'n_estimators': 90}\n",
      "\n",
      "Model with rank: 2\n",
      "Mean validation score: 0.835 (std: 0.000)\n",
      "Parameters: {'n_estimators': 100}\n",
      "\n",
      "Model with rank: 3\n",
      "Mean validation score: 0.835 (std: 0.000)\n",
      "Parameters: {'n_estimators': 80}\n",
      "\n"
     ]
    }
   ],
   "source": [
    "# Utility function to report best scores\n",
    "def report(results, n_top=3):\n",
    "    for i in range(1, n_top + 1):\n",
    "        candidates = np.flatnonzero(results['rank_test_score'] == i)\n",
    "        for candidate in candidates:\n",
    "            print(\"Model with rank: {0}\".format(i))\n",
    "            print(\"Mean validation score: {0:.3f} (std: {1:.3f})\".format(\n",
    "                  results['mean_test_score'][candidate],\n",
    "                  results['std_test_score'][candidate]))\n",
    "            print(\"Parameters: {0}\".format(results['params'][candidate]))\n",
    "            print(\"\")\n",
    "\n",
    "\n",
    "report(grid_search.cv_results_)"
   ]
  },
  {
   "cell_type": "code",
   "execution_count": 18,
   "metadata": {},
   "outputs": [],
   "source": [
    "#Thus after tuning the decision tree using validation set, we test it on the actual test set. and fit the classfier \n",
    "#with the complete training set\n",
    "\n",
    "classifier_tuned = RandomForestClassifier(random_state=42, n_estimators = 100)\n",
    "#applying random under sampling on complete training set\n",
    "classifier_tuned = classifier_tuned.fit(X_rus, y_rus)\n",
    "y_pred_tuned = classifier_tuned.predict(X_test)"
   ]
  },
  {
   "cell_type": "code",
   "execution_count": 19,
   "metadata": {},
   "outputs": [
    {
     "data": {
      "image/png": "[encoded data removed]",
      "text/plain": [
       "<Figure size 432x288 with 1 Axes>"
      ]
     },
     "metadata": {},
     "output_type": "display_data"
    }
   ],
   "source": [
    "#Plotting the predicted test data\n",
    "X_test_predict_tuned_map = np.zeros(shape=(a.shape[0], a.shape[1]))\n",
    "    \n",
    "for i in range(len(X_indices_test)):\n",
    "    r = X_indices_test[i]//a.shape[1]\n",
    "    c = X_indices_test[i] - r*a.shape[1]\n",
    "    if y_pred_tuned[i] == 1:\n",
    "        X_test_predict_tuned_map[r][c] = 1\n",
    "          \n",
    "X_test_predict_tuned_map = np.asarray(X_test_predict_map)\n",
    "plt.imshow(X_test_predict_tuned_map, cmap='hot', interpolation='nearest')\n",
    "plt.show()"
   ]
  },
  {
   "cell_type": "code",
   "execution_count": 20,
   "metadata": {},
   "outputs": [
    {
     "data": {
      "image/png": "[encoded data removed]",
      "text/plain": [
       "<Figure size 432x288 with 1 Axes>"
      ]
     },
     "metadata": {},
     "output_type": "display_data"
    }
   ],
   "source": [
    "from sklearn.metrics import roc_curve, auc\n",
    "\n",
    "#finding prediction for class 1 that is class Burnt\n",
    "y_pred_prob = classifier_tuned.predict_proba(X_test)[:,1]\n",
    "false_positive_rate_1, true_positive_rate_1, thresholds_1 = roc_curve(y_test, y_pred_prob)\n",
    "roc_auc_1 = auc(false_positive_rate_1, true_positive_rate_1)\n",
    "\n",
    "\n",
    "\n",
    "plt.title('Receiver Operating Characteristic Curve using RandomUnderSampling on Random Forest')\n",
    "plt.plot(false_positive_rate_1, true_positive_rate_1, 'b',label='AUC = %0.2f'% roc_auc_1)\n",
    "plt.legend(loc='lower right')\n",
    "plt.plot([0,1],[0,1],'r--')\n",
    "plt.xlim([-0.1,1.2])\n",
    "plt.ylim([-0.1,1.2])\n",
    "plt.ylabel('True Positive Rate')\n",
    "plt.xlabel('False Positive Rate')\n",
    "plt.show()\n"
   ]
  },
  {
   "cell_type": "code",
   "execution_count": 21,
   "metadata": {},
   "outputs": [
    {
     "name": "stdout",
     "output_type": "stream",
     "text": [
      "Confusion matrix, without normalization\n",
      "[[753192 166184]\n",
      " [  1937  11709]]\n",
      "Normalized confusion matrix\n",
      "[[0.82 0.18]\n",
      " [0.14 0.86]]\n"
     ]
    },
    {
     "data": {
      "image/png": "[encoded data removed]",
      "text/plain": [
       "<Figure size 432x288 with 2 Axes>"
      ]
     },
     "metadata": {},
     "output_type": "display_data"
    },
    {
     "data": {
      "image/png": "[encoded data removed]",
      "text/plain": [
       "<Figure size 432x288 with 2 Axes>"
      ]
     },
     "metadata": {},
     "output_type": "display_data"
    }
   ],
   "source": [
    "#Confusion matrix  on tuned classifer\n",
    "\n",
    "\n",
    "#C is such that C_{i, j} is equal to the number of observations known to be in group i \n",
    "#but predicted to be in group j.\n",
    "#Thus in binary classification, the count of true negatives is C_{0,0}, \n",
    "#false negatives is C_{1,0}, true positives is C_{1,1} and false positives is C_{0,1}.\n",
    "\n",
    "class_names = ['Non- burnt', 'burnt']\n",
    "def plot_confusion_matrix(cm, classes,\n",
    "                          normalize=False,\n",
    "                          title='Confusion matrix',\n",
    "                          cmap=plt.cm.Blues):\n",
    "    \"\"\"\n",
    "    This function prints and plots the confusion matrix.\n",
    "    Normalization can be applied by setting `normalize=True`.\n",
    "    \"\"\"\n",
    "    plt.imshow(cm, interpolation='nearest', cmap=cmap)\n",
    "    plt.title(title)\n",
    "    plt.colorbar()\n",
    "    tick_marks = np.arange(len(classes))\n",
    "    plt.xticks(tick_marks, classes, rotation=45)\n",
    "    plt.yticks(tick_marks, classes)\n",
    "\n",
    "    if normalize:\n",
    "        cm = cm.astype('float') / cm.sum(axis=1)[:, np.newaxis]\n",
    "        print(\"Normalized confusion matrix\")\n",
    "    else:\n",
    "        print('Confusion matrix, without normalization')\n",
    "\n",
    "    print(cm)\n",
    "\n",
    "    thresh = cm.max() / 2.\n",
    "    for i, j in itertools.product(range(cm.shape[0]), range(cm.shape[1])):\n",
    "        plt.text(j, i, cm[i, j],\n",
    "                 horizontalalignment=\"center\",\n",
    "                 color=\"white\" if cm[i, j] > thresh else \"black\")\n",
    "\n",
    "    plt.tight_layout()\n",
    "    plt.ylabel('True label')\n",
    "    plt.xlabel('Predicted label')\n",
    "\n",
    "# Compute confusion matrix\n",
    "cnf_matrix = confusion_matrix(y_test, y_pred_tuned)\n",
    "np.set_printoptions(precision=2)\n",
    "\n",
    "# Plot non-normalized confusion matrix\n",
    "plt.figure()\n",
    "plot_confusion_matrix(cnf_matrix, classes=class_names,title='Confusion matrix, without normalization')\n",
    "\n",
    "# Plot normalized confusion matrix\n",
    "plt.figure()\n",
    "plot_confusion_matrix(cnf_matrix, classes=class_names, normalize=True, title='Normalized confusion matrix')\n",
    "plt.show()"
   ]
  },
  {
   "cell_type": "code",
   "execution_count": 22,
   "metadata": {},
   "outputs": [
    {
     "name": "stdout",
     "output_type": "stream",
     "text": [
      "Requirement already up-to-date: watson-machine-learning-client in c:\\users\\lenovo\\anaconda3\\lib\\site-packages (1.0.331)\n",
      "Requirement already satisfied, skipping upgrade: requests in c:\\users\\lenovo\\anaconda3\\lib\\site-packages (from watson-machine-learning-client) (2.18.4)\n",
      "Requirement already satisfied, skipping upgrade: urllib3 in c:\\users\\lenovo\\anaconda3\\lib\\site-packages (from watson-machine-learning-client) (1.22)\n",
      "Requirement already satisfied, skipping upgrade: tabulate in c:\\users\\lenovo\\anaconda3\\lib\\site-packages (from watson-machine-learning-client) (0.8.2)\n",
      "Requirement already satisfied, skipping upgrade: tqdm in c:\\users\\lenovo\\anaconda3\\lib\\site-packages (from watson-machine-learning-client) (4.26.0)\n",
      "Requirement already satisfied, skipping upgrade: ibm-cos-sdk in c:\\users\\lenovo\\anaconda3\\lib\\site-packages (from watson-machine-learning-client) (2.3.0)\n",
      "Requirement already satisfied, skipping upgrade: pandas in c:\\users\\lenovo\\anaconda3\\lib\\site-packages (from watson-machine-learning-client) (0.23.0)\n",
      "Requirement already satisfied, skipping upgrade: certifi in c:\\users\\lenovo\\anaconda3\\lib\\site-packages (from watson-machine-learning-client) (2018.8.24)\n",
      "Requirement already satisfied, skipping upgrade: lomond in c:\\users\\lenovo\\anaconda3\\lib\\site-packages (from watson-machine-learning-client) (0.3.3)\n",
      "Requirement already satisfied, skipping upgrade: chardet<3.1.0,>=3.0.2 in c:\\users\\lenovo\\anaconda3\\lib\\site-packages (from requests->watson-machine-learning-client) (3.0.4)\n",
      "Requirement already satisfied, skipping upgrade: idna<2.7,>=2.5 in c:\\users\\lenovo\\anaconda3\\lib\\site-packages (from requests->watson-machine-learning-client) (2.6)\n",
      "Requirement already satisfied, skipping upgrade: ibm-cos-sdk-core==2.*,>=2.0.0 in c:\\users\\lenovo\\anaconda3\\lib\\site-packages (from ibm-cos-sdk->watson-machine-learning-client) (2.3.0)\n",
      "Requirement already satisfied, skipping upgrade: ibm-cos-sdk-s3transfer==2.*,>=2.0.0 in c:\\users\\lenovo\\anaconda3\\lib\\site-packages (from ibm-cos-sdk->watson-machine-learning-client) (2.3.0)\n",
      "Requirement already satisfied, skipping upgrade: pytz>=2011k in c:\\users\\lenovo\\anaconda3\\lib\\site-packages (from pandas->watson-machine-learning-client) (2018.4)\n",
      "Requirement already satisfied, skipping upgrade: python-dateutil>=2.5.0 in c:\\users\\lenovo\\anaconda3\\lib\\site-packages (from pandas->watson-machine-learning-client) (2.7.3)\n",
      "Requirement already satisfied, skipping upgrade: numpy>=1.9.0 in c:\\users\\lenovo\\anaconda3\\lib\\site-packages (from pandas->watson-machine-learning-client) (1.14.3)\n",
      "Requirement already satisfied, skipping upgrade: six>=1.10.0 in c:\\users\\lenovo\\anaconda3\\lib\\site-packages (from lomond->watson-machine-learning-client) (1.11.0)\n",
      "Requirement already satisfied, skipping upgrade: docutils>=0.10 in c:\\users\\lenovo\\anaconda3\\lib\\site-packages (from ibm-cos-sdk-core==2.*,>=2.0.0->ibm-cos-sdk->watson-machine-learning-client) (0.14)\n",
      "Requirement already satisfied, skipping upgrade: jmespath<1.0.0,>=0.7.1 in c:\\users\\lenovo\\anaconda3\\lib\\site-packages (from ibm-cos-sdk-core==2.*,>=2.0.0->ibm-cos-sdk->watson-machine-learning-client) (0.9.3)\n"
     ]
    }
   ],
   "source": [
    "!pip install watson-machine-learning-client --upgrade"
   ]
  },
  {
   "cell_type": "code",
   "execution_count": 23,
   "metadata": {},
   "outputs": [],
   "source": [
    "from sklearn.pipeline import Pipeline\n",
    "from sklearn import preprocessing\n",
    "from sklearn import svm, metrics"
   ]
  },
  {
   "cell_type": "code",
   "execution_count": 24,
   "metadata": {},
   "outputs": [],
   "source": [
    "scaler = preprocessing.StandardScaler()"
   ]
  },
  {
   "cell_type": "code",
   "execution_count": 25,
   "metadata": {},
   "outputs": [],
   "source": [
    "clf = svm.SVC(kernel='rbf')"
   ]
  },
  {
   "cell_type": "code",
   "execution_count": 26,
   "metadata": {},
   "outputs": [],
   "source": [
    "pipeline = Pipeline([('scaler', scaler), ('svc', clf)])"
   ]
  },
  {
   "cell_type": "code",
   "execution_count": 27,
   "metadata": {},
   "outputs": [],
   "source": [
    "model = pipeline.fit(X_rus, y_rus)"
   ]
  },
  {
   "cell_type": "code",
   "execution_count": 44,
   "metadata": {},
   "outputs": [],
   "source": [
    "from watson_machine_learning_client import WatsonMachineLearningAPIClient"
   ]
  },
  {
   "cell_type": "code",
   "execution_count": 45,
   "metadata": {},
   "outputs": [],
   "source": [
    "wml_credentials={\n",
    "  \"url\": \"https://eu-gb.ml.cloud.ibm.com\",\n",
    "  \"access_key\": \"l5WfefoE7k71Kr1VP7IksuC8DBv4tu_0QoniDGK0ZWFM\",\n",
    "  \"username\": \"10070cf2-a03b-4358-99f7-2d07b11b1568\",\n",
    "  \"password\": \"572faa58-7c7a-4984-aeb2-60addae808be\",\n",
    "  \"instance_id\": \"7b90a098-be65-4ea7-aaf8-a544c387aa84\"\n",
    "}"
   ]
  },
  {
   "cell_type": "code",
   "execution_count": 46,
   "metadata": {},
   "outputs": [],
   "source": [
    "client = WatsonMachineLearningAPIClient(wml_credentials)"
   ]
  },
  {
   "cell_type": "code",
   "execution_count": 47,
   "metadata": {},
   "outputs": [
    {
     "name": "stdout",
     "output_type": "stream",
     "text": [
      "{\n",
      "  \"metadata\": {\n",
      "    \"guid\": \"7b90a098-be65-4ea7-aaf8-a544c387aa84\",\n",
      "    \"url\": \"https://eu-gb.ml.cloud.ibm.com/v3/wml_instances/7b90a098-be65-4ea7-aaf8-a544c387aa84\",\n",
      "    \"created_at\": \"2018-08-22T22:09:45.898Z\",\n",
      "    \"modified_at\": \"2018-08-22T22:09:45.898Z\"\n",
      "  },\n",
      "  \"entity\": {\n",
      "    \"source\": \"Bluemix\",\n",
      "    \"published_models\": {\n",
      "      \"url\": \"https://eu-gb.ml.cloud.ibm.com/v3/wml_instances/7b90a098-be65-4ea7-aaf8-a544c387aa84/published_models\"\n",
      "    },\n",
      "    \"usage\": {\n",
      "      \"expiration_date\": \"2018-10-01T00:00:00.000Z\",\n",
      "      \"computation_time\": {\n",
      "        \"limit\": 180000,\n",
      "        \"current\": 0\n",
      "      },\n",
      "      \"model_count\": {\n",
      "        \"limit\": 200,\n",
      "        \"current\": 3\n",
      "      },\n",
      "      \"prediction_count\": {\n",
      "        \"limit\": 5000,\n",
      "        \"current\": 0\n",
      "      },\n",
      "      \"gpu_count\": {\n",
      "        \"limit\": 8,\n",
      "        \"current\": 0\n",
      "      },\n",
      "      \"capacity_units\": {\n",
      "        \"limit\": 180000000,\n",
      "        \"current\": 0\n",
      "      },\n",
      "      \"deployment_count\": {\n",
      "        \"limit\": 5,\n",
      "        \"current\": 1\n",
      "      }\n",
      "    },\n",
      "    \"tags\": null,\n",
      "    \"plan_id\": \"3f6acf43-ede8-413a-ac69-f8af3bb0cbfe\",\n",
      "    \"status\": \"Active\",\n",
      "    \"organization_guid\": \"N/A\",\n",
      "    \"region\": \"eu-gb\",\n",
      "    \"account\": {\n",
      "      \"id\": \"eeea35a692554329988809e5f4d2e526\",\n",
      "      \"name\": \"Engin Bozkurt's Account\",\n",
      "      \"type\": \"STANDARD\"\n",
      "    },\n",
      "    \"owner\": {\n",
      "      \"ibm_id\": \"550000ERPU\",\n",
      "      \"email\": \"engin.bozkurt300@gmail.com\",\n",
      "      \"user_id\": \"fb999a21-6106-4ed7-bf7d-fca8bf8d582d\",\n",
      "      \"country_code\": \"TUR\",\n",
      "      \"beta_user\": false\n",
      "    },\n",
      "    \"deployments\": {\n",
      "      \"url\": \"https://eu-gb.ml.cloud.ibm.com/v3/wml_instances/7b90a098-be65-4ea7-aaf8-a544c387aa84/deployments\"\n",
      "    },\n",
      "    \"space_guid\": \"N/A\",\n",
      "    \"plan\": \"lite\"\n",
      "  }\n",
      "}\n"
     ]
    }
   ],
   "source": [
    "import json\n",
    "\n",
    "instance_details = client.service_instance.get_details()\n",
    "print(json.dumps(instance_details, indent=2))"
   ]
  },
  {
   "cell_type": "code",
   "execution_count": 48,
   "metadata": {},
   "outputs": [],
   "source": [
    "model_props = {client.repository.ModelMetaNames.AUTHOR_NAME: \"Engin Bozkurt\", \n",
    "               client.repository.ModelMetaNames.AUTHOR_EMAIL: \"engin.bozkurt034@gmail.com\",\n",
    "               client.repository.ModelMetaNames.NAME: \"Random Forests model for wildfires\"}"
   ]
  },
  {
   "cell_type": "code",
   "execution_count": 49,
   "metadata": {},
   "outputs": [
    {
     "name": "stderr",
     "output_type": "stream",
     "text": [
      "2018-09-28 18:52:52,513 - watson_machine_learning_client.metanames - WARNING - 'AUTHOR_EMAIL' meta prop is deprecated. It will be ignored.\n"
     ]
    }
   ],
   "source": [
    "published_model = client.repository.store_model(model=model, meta_props=model_props, \\\n",
    "                                                training_data=X_rus, training_target=y_rus)"
   ]
  },
  {
   "cell_type": "code",
   "execution_count": 50,
   "metadata": {},
   "outputs": [
    {
     "name": "stdout",
     "output_type": "stream",
     "text": [
      "{\n",
      "  \"metadata\": {\n",
      "    \"guid\": \"853745b1-c12e-4d80-b20e-9f4e55da3629\",\n",
      "    \"url\": \"https://eu-gb.ml.cloud.ibm.com/v3/wml_instances/7b90a098-be65-4ea7-aaf8-a544c387aa84/published_models/853745b1-c12e-4d80-b20e-9f4e55da3629\",\n",
      "    \"created_at\": \"2018-09-28T15:52:52.698Z\",\n",
      "    \"modified_at\": \"2018-09-28T15:52:52.739Z\"\n",
      "  },\n",
      "  \"entity\": {\n",
      "    \"runtime_environment\": \"python-3.6\",\n",
      "    \"learning_configuration_url\": \"https://eu-gb.ml.cloud.ibm.com/v3/wml_instances/7b90a098-be65-4ea7-aaf8-a544c387aa84/published_models/853745b1-c12e-4d80-b20e-9f4e55da3629/learning_configuration\",\n",
      "    \"author\": {\n",
      "      \"name\": \"Engin Bozkurt\"\n",
      "    },\n",
      "    \"name\": \"Random Forests model for wildfires\",\n",
      "    \"label_col\": \"l1\",\n",
      "    \"tags\": [],\n",
      "    \"learning_iterations_url\": \"https://eu-gb.ml.cloud.ibm.com/v3/wml_instances/7b90a098-be65-4ea7-aaf8-a544c387aa84/published_models/853745b1-c12e-4d80-b20e-9f4e55da3629/learning_iterations\",\n",
      "    \"training_data_schema\": {\n",
      "      \"features\": {\n",
      "        \"type\": \"ndarray\",\n",
      "        \"fields\": [\n",
      "          {\n",
      "            \"name\": \"f0\",\n",
      "            \"type\": \"float\"\n",
      "          },\n",
      "          {\n",
      "            \"name\": \"f1\",\n",
      "            \"type\": \"float\"\n",
      "          },\n",
      "          {\n",
      "            \"name\": \"f2\",\n",
      "            \"type\": \"float\"\n",
      "          },\n",
      "          {\n",
      "            \"name\": \"f3\",\n",
      "            \"type\": \"float\"\n",
      "          },\n",
      "          {\n",
      "            \"name\": \"f4\",\n",
      "            \"type\": \"float\"\n",
      "          }\n",
      "        ]\n",
      "      },\n",
      "      \"labels\": {\n",
      "        \"type\": \"ndarray\",\n",
      "        \"fields\": [\n",
      "          {\n",
      "            \"name\": \"l1\",\n",
      "            \"type\": \"float\"\n",
      "          }\n",
      "        ]\n",
      "      }\n",
      "    },\n",
      "    \"feedback_url\": \"https://eu-gb.ml.cloud.ibm.com/v3/wml_instances/7b90a098-be65-4ea7-aaf8-a544c387aa84/published_models/853745b1-c12e-4d80-b20e-9f4e55da3629/feedback\",\n",
      "    \"latest_version\": {\n",
      "      \"url\": \"https://eu-gb.ml.cloud.ibm.com/v3/ml_assets/models/853745b1-c12e-4d80-b20e-9f4e55da3629/versions/baf79b32-3dba-4bb0-9453-381d4fb57fec\",\n",
      "      \"guid\": \"baf79b32-3dba-4bb0-9453-381d4fb57fec\",\n",
      "      \"created_at\": \"2018-09-28T15:52:52.739Z\"\n",
      "    },\n",
      "    \"model_type\": \"scikit-learn-0.19\",\n",
      "    \"deployments\": {\n",
      "      \"count\": 0,\n",
      "      \"url\": \"https://eu-gb.ml.cloud.ibm.com/v3/wml_instances/7b90a098-be65-4ea7-aaf8-a544c387aa84/published_models/853745b1-c12e-4d80-b20e-9f4e55da3629/deployments\"\n",
      "    },\n",
      "    \"evaluation_metrics_url\": \"https://eu-gb.ml.cloud.ibm.com/v3/wml_instances/7b90a098-be65-4ea7-aaf8-a544c387aa84/published_models/853745b1-c12e-4d80-b20e-9f4e55da3629/evaluation_metrics\",\n",
      "    \"input_data_schema\": {\n",
      "      \"features\": {\n",
      "        \"type\": \"ndarray\",\n",
      "        \"fields\": [\n",
      "          {\n",
      "            \"name\": \"f0\",\n",
      "            \"type\": \"float\"\n",
      "          },\n",
      "          {\n",
      "            \"name\": \"f1\",\n",
      "            \"type\": \"float\"\n",
      "          },\n",
      "          {\n",
      "            \"name\": \"f2\",\n",
      "            \"type\": \"float\"\n",
      "          },\n",
      "          {\n",
      "            \"name\": \"f3\",\n",
      "            \"type\": \"float\"\n",
      "          },\n",
      "          {\n",
      "            \"name\": \"f4\",\n",
      "            \"type\": \"float\"\n",
      "          }\n",
      "        ]\n",
      "      },\n",
      "      \"labels\": {\n",
      "        \"type\": \"ndarray\",\n",
      "        \"fields\": [\n",
      "          {\n",
      "            \"name\": \"l1\",\n",
      "            \"type\": \"float\"\n",
      "          }\n",
      "        ]\n",
      "      }\n",
      "    }\n",
      "  }\n",
      "}\n"
     ]
    }
   ],
   "source": [
    "published_model_uid = client.repository.get_model_uid(published_model)\n",
    "model_details = client.repository.get_details(published_model_uid)\n",
    "\n",
    "print(json.dumps(model_details, indent=2))"
   ]
  },
  {
   "cell_type": "code",
   "execution_count": 51,
   "metadata": {},
   "outputs": [
    {
     "name": "stdout",
     "output_type": "stream",
     "text": [
      "------------------------------------  ----------------------------------  ------------------------  -----------------\n",
      "GUID                                  NAME                                CREATED                   FRAMEWORK\n",
      "853745b1-c12e-4d80-b20e-9f4e55da3629  Random Forests model for wildfires  2018-09-28T15:52:52.698Z  scikit-learn-0.19\n",
      "d26e92be-cdf5-42e2-bd8e-a0285cee152b  wildfireModel                       2018-08-23T00:17:02.111Z  wml-1.1\n",
      "e697ed8b-f357-4321-ac3a-b32eb468b075  wildfireModel                       2018-08-23T00:09:39.366Z  wml-1.1\n",
      "3ed46a57-f2cb-430c-a3fa-2729dc2603b8  wildfireModel                       2018-08-23T00:08:39.443Z  wml-1.1\n",
      "------------------------------------  ----------------------------------  ------------------------  -----------------\n"
     ]
    }
   ],
   "source": [
    "models_details = client.repository.list_models()"
   ]
  },
  {
   "cell_type": "code",
   "execution_count": 52,
   "metadata": {},
   "outputs": [],
   "source": [
    "loaded_model = client.repository.load(published_model_uid)"
   ]
  },
  {
   "cell_type": "code",
   "execution_count": 53,
   "metadata": {},
   "outputs": [
    {
     "name": "stdout",
     "output_type": "stream",
     "text": [
      "\n",
      "\n",
      "#######################################################################################\n",
      "\n",
      "Synchronous deployment creation for uid: '853745b1-c12e-4d80-b20e-9f4e55da3629' started\n",
      "\n",
      "#######################################################################################\n",
      "\n",
      "\n",
      "INITIALIZING\n",
      "DEPLOY_SUCCESS\n",
      "\n",
      "\n",
      "------------------------------------------------------------------------------------------------\n",
      "Successfully finished deployment creation, deployment_uid='89c7f317-f479-4090-9ee3-8bbf3bfadc31'\n",
      "------------------------------------------------------------------------------------------------\n",
      "\n",
      "\n"
     ]
    }
   ],
   "source": [
    "created_deployment = client.deployments.create(published_model_uid, \"Deployment of locally created scikit model\")"
   ]
  },
  {
   "cell_type": "code",
   "execution_count": 54,
   "metadata": {},
   "outputs": [
    {
     "name": "stdout",
     "output_type": "stream",
     "text": [
      "https://eu-gb.ml.cloud.ibm.com/v3/wml_instances/7b90a098-be65-4ea7-aaf8-a544c387aa84/deployments/89c7f317-f479-4090-9ee3-8bbf3bfadc31/online\n"
     ]
    }
   ],
   "source": [
    "scoring_endpoint = client.deployments.get_scoring_url(created_deployment)\n",
    "\n",
    "print(scoring_endpoint)"
   ]
  },
  {
   "cell_type": "code",
   "execution_count": 55,
   "metadata": {},
   "outputs": [
    {
     "name": "stdout",
     "output_type": "stream",
     "text": [
      "{\n",
      "  \"resources\": [\n",
      "    {\n",
      "      \"metadata\": {\n",
      "        \"guid\": \"89c7f317-f479-4090-9ee3-8bbf3bfadc31\",\n",
      "        \"url\": \"https://eu-gb.ml.cloud.ibm.com/v3/wml_instances/7b90a098-be65-4ea7-aaf8-a544c387aa84/deployments/89c7f317-f479-4090-9ee3-8bbf3bfadc31\",\n",
      "        \"created_at\": \"2018-09-28T16:01:08.075Z\",\n",
      "        \"modified_at\": \"2018-09-28T16:01:08.335Z\"\n",
      "      },\n",
      "      \"entity\": {\n",
      "        \"runtime_environment\": \"python-3.6\",\n",
      "        \"name\": \"Deployment of locally created scikit model\",\n",
      "        \"scoring_url\": \"https://eu-gb.ml.cloud.ibm.com/v3/wml_instances/7b90a098-be65-4ea7-aaf8-a544c387aa84/deployments/89c7f317-f479-4090-9ee3-8bbf3bfadc31/online\",\n",
      "        \"deployable_asset\": {\n",
      "          \"name\": \"Random Forests model for wildfires\",\n",
      "          \"url\": \"https://eu-gb.ml.cloud.ibm.com/v3/wml_instances/7b90a098-be65-4ea7-aaf8-a544c387aa84/published_models/853745b1-c12e-4d80-b20e-9f4e55da3629\",\n",
      "          \"guid\": \"853745b1-c12e-4d80-b20e-9f4e55da3629\",\n",
      "          \"created_at\": \"2018-09-28T16:01:08.055Z\",\n",
      "          \"type\": \"model\"\n",
      "        },\n",
      "        \"description\": \"Description of deployment\",\n",
      "        \"published_model\": {\n",
      "          \"author\": {\n",
      "            \"name\": \"Engin Bozkurt\"\n",
      "          },\n",
      "          \"name\": \"Random Forests model for wildfires\",\n",
      "          \"url\": \"https://eu-gb.ml.cloud.ibm.com/v3/wml_instances/7b90a098-be65-4ea7-aaf8-a544c387aa84/published_models/853745b1-c12e-4d80-b20e-9f4e55da3629\",\n",
      "          \"guid\": \"853745b1-c12e-4d80-b20e-9f4e55da3629\",\n",
      "          \"created_at\": \"2018-09-28T16:01:08.055Z\"\n",
      "        },\n",
      "        \"status_details\": {\n",
      "          \"status\": \"DEPLOY_SUCCESS\"\n",
      "        },\n",
      "        \"model_type\": \"scikit-learn-0.19\",\n",
      "        \"status\": \"DEPLOY_SUCCESS\",\n",
      "        \"type\": \"online\",\n",
      "        \"deployed_version\": {\n",
      "          \"url\": \"https://eu-gb.ml.cloud.ibm.com/v3/ml_assets/models/853745b1-c12e-4d80-b20e-9f4e55da3629/versions/baf79b32-3dba-4bb0-9453-381d4fb57fec\",\n",
      "          \"guid\": \"baf79b32-3dba-4bb0-9453-381d4fb57fec\"\n",
      "        }\n",
      "      }\n",
      "    },\n",
      "    {\n",
      "      \"metadata\": {\n",
      "        \"guid\": \"f6eb39f3-9395-4db9-b955-4f82e6776886\",\n",
      "        \"url\": \"https://eu-gb.ml.cloud.ibm.com/v3/wml_instances/7b90a098-be65-4ea7-aaf8-a544c387aa84/deployments/f6eb39f3-9395-4db9-b955-4f82e6776886\",\n",
      "        \"created_at\": \"2018-08-23T00:20:54.528Z\",\n",
      "        \"modified_at\": \"2018-08-23T00:20:55.004Z\"\n",
      "      },\n",
      "      \"entity\": {\n",
      "        \"runtime_environment\": \"spark-2.1\",\n",
      "        \"name\": \"Deployment\",\n",
      "        \"scoring_url\": \"https://eu-gb.ml.cloud.ibm.com/v3/wml_instances/7b90a098-be65-4ea7-aaf8-a544c387aa84/deployments/f6eb39f3-9395-4db9-b955-4f82e6776886/online\",\n",
      "        \"deployable_asset\": {\n",
      "          \"name\": \"wildfireModel\",\n",
      "          \"url\": \"https://eu-gb.ml.cloud.ibm.com/v3/wml_instances/7b90a098-be65-4ea7-aaf8-a544c387aa84/published_models/d26e92be-cdf5-42e2-bd8e-a0285cee152b\",\n",
      "          \"guid\": \"d26e92be-cdf5-42e2-bd8e-a0285cee152b\",\n",
      "          \"created_at\": \"2018-08-23T00:20:54.482Z\",\n",
      "          \"type\": \"model\"\n",
      "        },\n",
      "        \"published_model\": {\n",
      "          \"url\": \"https://eu-gb.ml.cloud.ibm.com/v3/wml_instances/7b90a098-be65-4ea7-aaf8-a544c387aa84/published_models/d26e92be-cdf5-42e2-bd8e-a0285cee152b\",\n",
      "          \"guid\": \"d26e92be-cdf5-42e2-bd8e-a0285cee152b\",\n",
      "          \"created_at\": \"2018-08-23T00:20:54.482Z\",\n",
      "          \"name\": \"wildfireModel\"\n",
      "        },\n",
      "        \"status_details\": {\n",
      "          \"status\": \"DEPLOY_SUCCESS\"\n",
      "        },\n",
      "        \"model_type\": \"wml-1.1\",\n",
      "        \"status\": \"DEPLOY_SUCCESS\",\n",
      "        \"type\": \"online\",\n",
      "        \"deployed_version\": {\n",
      "          \"url\": \"https://eu-gb.ml.cloud.ibm.com/v3/ml_assets/models/d26e92be-cdf5-42e2-bd8e-a0285cee152b/versions/6313e232-bcad-4760-aa8f-2a5f536fa2f1\",\n",
      "          \"guid\": \"6313e232-bcad-4760-aa8f-2a5f536fa2f1\"\n",
      "        }\n",
      "      }\n",
      "    }\n",
      "  ]\n",
      "}\n"
     ]
    }
   ],
   "source": [
    "deployments = client.deployments.get_details()\n",
    "\n",
    "print(json.dumps(deployments, indent=2))"
   ]
  },
  {
   "cell_type": "code",
   "execution_count": 56,
   "metadata": {},
   "outputs": [
    {
     "name": "stdout",
     "output_type": "stream",
     "text": [
      "https://eu-gb.ml.cloud.ibm.com/v3/wml_instances/7b90a098-be65-4ea7-aaf8-a544c387aa84/deployments/89c7f317-f479-4090-9ee3-8bbf3bfadc31\n"
     ]
    }
   ],
   "source": [
    "deployment_url = client.deployments.get_url(created_deployment)\n",
    "\n",
    "print(deployment_url)"
   ]
  }
 ],
 "metadata": {
  "kernelspec": {
   "display_name": "Python 3",
   "language": "python",
   "name": "python3"
  },
  "language_info": {
   "codemirror_mode": {
    "name": "ipython",
    "version": 3
   },
   "file_extension": ".py",
   "mimetype": "text/x-python",
   "name": "python",
   "nbconvert_exporter": "python",
   "pygments_lexer": "ipython3",
   "version": "3.6.5"
  }
 },
 "nbformat": 4,
 "nbformat_minor": 2
}
